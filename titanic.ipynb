{
 "cells": [
  {
   "cell_type": "markdown",
   "id": "fde52a20-0cd4-48b2-965c-9eafe65ae668",
   "metadata": {
    "canvas": {
     "comments": [],
     "componentType": "CodeCell",
     "copiedOriginId": null,
     "diskcache": false,
     "headerColor": "transparent",
     "id": "987538eb-f280-4fc0-a62b-0bfd0ae4eb85",
     "isComponent": false,
     "name": "",
     "parents": []
    },
    "tags": []
   },
   "source": [
    "# Titanic - Machine Learning from Disaster"
   ]
  },
  {
   "cell_type": "markdown",
   "id": "5d5815bf-1d83-4bc6-8510-5725c6ebc152",
   "metadata": {
    "canvas": {
     "comments": [],
     "componentType": "CodeCell",
     "copiedOriginId": null,
     "diskcache": false,
     "headerColor": "transparent",
     "id": "8063ef87-256d-484a-aabb-0b344650aa94",
     "isComponent": false,
     "name": "",
     "parents": []
    }
   },
   "source": [
    "This project is an introductory project to ML, as well as Kaggle's competition ecosystem. In this project, we predict the survival of several passengers on the titanic, depending on their attributes. A rundown of the columns in the dataset we'll be using is shown below:\n",
    "\n",
    "\n",
    "Variable|Definition|Key\n",
    "---|---|---\n",
    "survival|Did this passenger survive?|0 = No, 1 = Yes\n",
    "pclass|Ticket class|1 = 1st, 2 = 2nd, 3 = 3rd\n",
    "sex|Gender of the passenger\n",
    "Age|Age in years|\n",
    "sibsp|# of siblings / spouses aboard the Titanic\n",
    "parch|# of parents / children aboard the Titanic\n",
    "ticket|Ticket number\n",
    "fare|Passenger fare\n",
    "cabin|Cabin number\n",
    "embarked|The port from which each passenger boarded|C = Cherbourg, Q = Queenstown, S = Southampton\n"
   ]
  },
  {
   "cell_type": "markdown",
   "id": "19b2dc1d-0b16-4dfd-8db9-28f7bfdee69f",
   "metadata": {
    "canvas": {
     "comments": [],
     "componentType": "CodeCell",
     "copiedOriginId": null,
     "diskcache": false,
     "headerColor": "transparent",
     "id": "ed3e51f6-ff8d-4f22-af6d-4d657d9e25b7",
     "isComponent": false,
     "name": "",
     "parents": []
    },
    "tags": []
   },
   "source": [
    "# 1 - Importing datasets and libraries"
   ]
  },
  {
   "cell_type": "markdown",
   "id": "3f895219-d3b2-4e8d-9a51-91f03d8c6ec7",
   "metadata": {
    "canvas": {
     "comments": [],
     "componentType": "CodeCell",
     "copiedOriginId": null,
     "diskcache": false,
     "headerColor": "transparent",
     "id": "cea05464-2f52-4cc3-b038-ec67adf73cd7",
     "isComponent": false,
     "name": "",
     "parents": []
    }
   },
   "source": [
    "First let's import the libraries we'll need to work this problem"
   ]
  },
  {
   "cell_type": "code",
   "execution_count": 1,
   "id": "519178ee-4893-44ab-bec4-3d49b67a89d9",
   "metadata": {
    "canvas": {
     "comments": [],
     "componentType": "CodeCell",
     "copiedOriginId": null,
     "diskcache": false,
     "headerColor": "transparent",
     "id": "46559a1e-61f5-40ff-9f50-492d8578f8d1",
     "isComponent": false,
     "name": "",
     "parents": []
    }
   },
   "outputs": [],
   "source": [
    "import pandas as pd\n",
    "import numpy as np\n",
    "from matplotlib import pyplot as plt\n",
    "from sklearn.preprocessing import OrdinalEncoder, StandardScaler, OneHotEncoder\n",
    "from sklearn.linear_model import LinearRegression, LogisticRegression\n",
    "\n",
    "import tensorflow as tf\n",
    "from tensorflow.keras import Sequential\n",
    "from tensorflow.keras.layers import Dense\n",
    "from tensorflow.keras.activations import linear, relu, sigmoid\n",
    "from tensorflow.python.ops.numpy_ops import np_config\n",
    "np_config.enable_numpy_behavior()"
   ]
  },
  {
   "cell_type": "markdown",
   "id": "6c6f2e12-024e-4647-8c70-d9c8250f4438",
   "metadata": {
    "canvas": {
     "comments": [],
     "componentType": "CodeCell",
     "copiedOriginId": null,
     "diskcache": false,
     "headerColor": "transparent",
     "id": "cc830f49-cd85-47ca-b222-aa0dea3755cb",
     "isComponent": false,
     "name": "",
     "parents": []
    }
   },
   "source": [
    "Now we import the dataset"
   ]
  },
  {
   "cell_type": "code",
   "execution_count": 2,
   "id": "0fc9f6eb-1d08-42fc-972b-a229f78b7424",
   "metadata": {
    "canvas": {
     "comments": [],
     "componentType": "CodeCell",
     "copiedOriginId": null,
     "diskcache": false,
     "headerColor": "transparent",
     "id": "83ba345e-6319-46ba-b0bf-e7270d5a2899",
     "isComponent": false,
     "name": "",
     "parents": []
    }
   },
   "outputs": [
    {
     "data": {
      "text/html": [
       "<div>\n",
       "<style scoped>\n",
       "    .dataframe tbody tr th:only-of-type {\n",
       "        vertical-align: middle;\n",
       "    }\n",
       "\n",
       "    .dataframe tbody tr th {\n",
       "        vertical-align: top;\n",
       "    }\n",
       "\n",
       "    .dataframe thead th {\n",
       "        text-align: right;\n",
       "    }\n",
       "</style>\n",
       "<table border=\"1\" class=\"dataframe\">\n",
       "  <thead>\n",
       "    <tr style=\"text-align: right;\">\n",
       "      <th></th>\n",
       "      <th>PassengerId</th>\n",
       "      <th>Survived</th>\n",
       "      <th>Pclass</th>\n",
       "      <th>Name</th>\n",
       "      <th>Sex</th>\n",
       "      <th>Age</th>\n",
       "      <th>SibSp</th>\n",
       "      <th>Parch</th>\n",
       "      <th>Ticket</th>\n",
       "      <th>Fare</th>\n",
       "      <th>Cabin</th>\n",
       "      <th>Embarked</th>\n",
       "    </tr>\n",
       "  </thead>\n",
       "  <tbody>\n",
       "    <tr>\n",
       "      <th>0</th>\n",
       "      <td>1</td>\n",
       "      <td>0</td>\n",
       "      <td>3</td>\n",
       "      <td>Braund, Mr. Owen Harris</td>\n",
       "      <td>male</td>\n",
       "      <td>22.0</td>\n",
       "      <td>1</td>\n",
       "      <td>0</td>\n",
       "      <td>A/5 21171</td>\n",
       "      <td>7.2500</td>\n",
       "      <td>NaN</td>\n",
       "      <td>S</td>\n",
       "    </tr>\n",
       "    <tr>\n",
       "      <th>1</th>\n",
       "      <td>2</td>\n",
       "      <td>1</td>\n",
       "      <td>1</td>\n",
       "      <td>Cumings, Mrs. John Bradley (Florence Briggs Th...</td>\n",
       "      <td>female</td>\n",
       "      <td>38.0</td>\n",
       "      <td>1</td>\n",
       "      <td>0</td>\n",
       "      <td>PC 17599</td>\n",
       "      <td>71.2833</td>\n",
       "      <td>C85</td>\n",
       "      <td>C</td>\n",
       "    </tr>\n",
       "    <tr>\n",
       "      <th>2</th>\n",
       "      <td>3</td>\n",
       "      <td>1</td>\n",
       "      <td>3</td>\n",
       "      <td>Heikkinen, Miss. Laina</td>\n",
       "      <td>female</td>\n",
       "      <td>26.0</td>\n",
       "      <td>0</td>\n",
       "      <td>0</td>\n",
       "      <td>STON/O2. 3101282</td>\n",
       "      <td>7.9250</td>\n",
       "      <td>NaN</td>\n",
       "      <td>S</td>\n",
       "    </tr>\n",
       "    <tr>\n",
       "      <th>3</th>\n",
       "      <td>4</td>\n",
       "      <td>1</td>\n",
       "      <td>1</td>\n",
       "      <td>Futrelle, Mrs. Jacques Heath (Lily May Peel)</td>\n",
       "      <td>female</td>\n",
       "      <td>35.0</td>\n",
       "      <td>1</td>\n",
       "      <td>0</td>\n",
       "      <td>113803</td>\n",
       "      <td>53.1000</td>\n",
       "      <td>C123</td>\n",
       "      <td>S</td>\n",
       "    </tr>\n",
       "    <tr>\n",
       "      <th>4</th>\n",
       "      <td>5</td>\n",
       "      <td>0</td>\n",
       "      <td>3</td>\n",
       "      <td>Allen, Mr. William Henry</td>\n",
       "      <td>male</td>\n",
       "      <td>35.0</td>\n",
       "      <td>0</td>\n",
       "      <td>0</td>\n",
       "      <td>373450</td>\n",
       "      <td>8.0500</td>\n",
       "      <td>NaN</td>\n",
       "      <td>S</td>\n",
       "    </tr>\n",
       "  </tbody>\n",
       "</table>\n",
       "</div>"
      ],
      "text/plain": [
       "   PassengerId  Survived  Pclass  \\\n",
       "0            1         0       3   \n",
       "1            2         1       1   \n",
       "2            3         1       3   \n",
       "3            4         1       1   \n",
       "4            5         0       3   \n",
       "\n",
       "                                                Name     Sex   Age  SibSp  \\\n",
       "0                            Braund, Mr. Owen Harris    male  22.0      1   \n",
       "1  Cumings, Mrs. John Bradley (Florence Briggs Th...  female  38.0      1   \n",
       "2                             Heikkinen, Miss. Laina  female  26.0      0   \n",
       "3       Futrelle, Mrs. Jacques Heath (Lily May Peel)  female  35.0      1   \n",
       "4                           Allen, Mr. William Henry    male  35.0      0   \n",
       "\n",
       "   Parch            Ticket     Fare Cabin Embarked  \n",
       "0      0         A/5 21171   7.2500   NaN        S  \n",
       "1      0          PC 17599  71.2833   C85        C  \n",
       "2      0  STON/O2. 3101282   7.9250   NaN        S  \n",
       "3      0            113803  53.1000  C123        S  \n",
       "4      0            373450   8.0500   NaN        S  "
      ]
     },
     "metadata": {},
     "output_type": "display_data"
    },
    {
     "data": {
      "text/html": [
       "<div>\n",
       "<style scoped>\n",
       "    .dataframe tbody tr th:only-of-type {\n",
       "        vertical-align: middle;\n",
       "    }\n",
       "\n",
       "    .dataframe tbody tr th {\n",
       "        vertical-align: top;\n",
       "    }\n",
       "\n",
       "    .dataframe thead th {\n",
       "        text-align: right;\n",
       "    }\n",
       "</style>\n",
       "<table border=\"1\" class=\"dataframe\">\n",
       "  <thead>\n",
       "    <tr style=\"text-align: right;\">\n",
       "      <th></th>\n",
       "      <th>PassengerId</th>\n",
       "      <th>Pclass</th>\n",
       "      <th>Name</th>\n",
       "      <th>Sex</th>\n",
       "      <th>Age</th>\n",
       "      <th>SibSp</th>\n",
       "      <th>Parch</th>\n",
       "      <th>Ticket</th>\n",
       "      <th>Fare</th>\n",
       "      <th>Cabin</th>\n",
       "      <th>Embarked</th>\n",
       "    </tr>\n",
       "  </thead>\n",
       "  <tbody>\n",
       "    <tr>\n",
       "      <th>0</th>\n",
       "      <td>892</td>\n",
       "      <td>3</td>\n",
       "      <td>Kelly, Mr. James</td>\n",
       "      <td>male</td>\n",
       "      <td>34.5</td>\n",
       "      <td>0</td>\n",
       "      <td>0</td>\n",
       "      <td>330911</td>\n",
       "      <td>7.8292</td>\n",
       "      <td>NaN</td>\n",
       "      <td>Q</td>\n",
       "    </tr>\n",
       "    <tr>\n",
       "      <th>1</th>\n",
       "      <td>893</td>\n",
       "      <td>3</td>\n",
       "      <td>Wilkes, Mrs. James (Ellen Needs)</td>\n",
       "      <td>female</td>\n",
       "      <td>47.0</td>\n",
       "      <td>1</td>\n",
       "      <td>0</td>\n",
       "      <td>363272</td>\n",
       "      <td>7.0000</td>\n",
       "      <td>NaN</td>\n",
       "      <td>S</td>\n",
       "    </tr>\n",
       "    <tr>\n",
       "      <th>2</th>\n",
       "      <td>894</td>\n",
       "      <td>2</td>\n",
       "      <td>Myles, Mr. Thomas Francis</td>\n",
       "      <td>male</td>\n",
       "      <td>62.0</td>\n",
       "      <td>0</td>\n",
       "      <td>0</td>\n",
       "      <td>240276</td>\n",
       "      <td>9.6875</td>\n",
       "      <td>NaN</td>\n",
       "      <td>Q</td>\n",
       "    </tr>\n",
       "    <tr>\n",
       "      <th>3</th>\n",
       "      <td>895</td>\n",
       "      <td>3</td>\n",
       "      <td>Wirz, Mr. Albert</td>\n",
       "      <td>male</td>\n",
       "      <td>27.0</td>\n",
       "      <td>0</td>\n",
       "      <td>0</td>\n",
       "      <td>315154</td>\n",
       "      <td>8.6625</td>\n",
       "      <td>NaN</td>\n",
       "      <td>S</td>\n",
       "    </tr>\n",
       "    <tr>\n",
       "      <th>4</th>\n",
       "      <td>896</td>\n",
       "      <td>3</td>\n",
       "      <td>Hirvonen, Mrs. Alexander (Helga E Lindqvist)</td>\n",
       "      <td>female</td>\n",
       "      <td>22.0</td>\n",
       "      <td>1</td>\n",
       "      <td>1</td>\n",
       "      <td>3101298</td>\n",
       "      <td>12.2875</td>\n",
       "      <td>NaN</td>\n",
       "      <td>S</td>\n",
       "    </tr>\n",
       "  </tbody>\n",
       "</table>\n",
       "</div>"
      ],
      "text/plain": [
       "   PassengerId  Pclass                                          Name     Sex  \\\n",
       "0          892       3                              Kelly, Mr. James    male   \n",
       "1          893       3              Wilkes, Mrs. James (Ellen Needs)  female   \n",
       "2          894       2                     Myles, Mr. Thomas Francis    male   \n",
       "3          895       3                              Wirz, Mr. Albert    male   \n",
       "4          896       3  Hirvonen, Mrs. Alexander (Helga E Lindqvist)  female   \n",
       "\n",
       "    Age  SibSp  Parch   Ticket     Fare Cabin Embarked  \n",
       "0  34.5      0      0   330911   7.8292   NaN        Q  \n",
       "1  47.0      1      0   363272   7.0000   NaN        S  \n",
       "2  62.0      0      0   240276   9.6875   NaN        Q  \n",
       "3  27.0      0      0   315154   8.6625   NaN        S  \n",
       "4  22.0      1      1  3101298  12.2875   NaN        S  "
      ]
     },
     "metadata": {},
     "output_type": "display_data"
    }
   ],
   "source": [
    "X_train = pd.read_csv(\"train.csv\")\n",
    "X_test = pd.read_csv(\"test.csv\")\n",
    "display(X_train.head())\n",
    "display(X_test.head())"
   ]
  },
  {
   "cell_type": "markdown",
   "id": "13ddbe67-2386-4e72-b2d4-699fbb29d91d",
   "metadata": {
    "canvas": {
     "comments": [],
     "componentType": "CodeCell",
     "copiedOriginId": null,
     "diskcache": false,
     "headerColor": "transparent",
     "id": "b7c0d05b-7ab8-450f-8c2d-65068ffb1828",
     "isComponent": false,
     "name": "",
     "parents": []
    },
    "tags": []
   },
   "source": [
    "# 2 - Data Cleaning"
   ]
  },
  {
   "cell_type": "markdown",
   "id": "29a4f282-e2bb-4a75-84e6-9bcdd0b0db83",
   "metadata": {
    "canvas": {
     "comments": [],
     "componentType": "CodeCell",
     "copiedOriginId": null,
     "diskcache": false,
     "headerColor": "transparent",
     "id": "2379a407-0d91-4c35-8024-5c12c121995b",
     "isComponent": false,
     "name": "",
     "parents": []
    }
   },
   "source": [
    "In this section, we'll get an overview of the dataset to check the following:\n",
    "- All numeric data that will be used numerically are stored as a numeric dtype\n",
    "- There are no missing values, and if there are, we take care of them by imputation or dropping\n",
    "- Ensure that the target/label column is dropped from X_train."
   ]
  },
  {
   "cell_type": "markdown",
   "id": "92ad6323-7bee-4e24-831b-934e04817242",
   "metadata": {
    "canvas": {
     "comments": [],
     "componentType": "CodeCell",
     "copiedOriginId": null,
     "diskcache": false,
     "headerColor": "transparent",
     "id": "2456b6a8-02d4-4f80-bf48-52458767ba7a",
     "isComponent": false,
     "name": "",
     "parents": []
    }
   },
   "source": [
    "First let's get an overview of the dataset."
   ]
  },
  {
   "cell_type": "code",
   "execution_count": 3,
   "id": "2a9c1931-de1e-41a8-8c08-11b2e2ace7b7",
   "metadata": {
    "canvas": {
     "comments": [],
     "componentType": "CodeCell",
     "copiedOriginId": null,
     "diskcache": false,
     "headerColor": "transparent",
     "id": "9df79906-c994-4de1-80bd-5ff1bd9442dd",
     "isComponent": false,
     "name": "",
     "parents": []
    }
   },
   "outputs": [
    {
     "name": "stdout",
     "output_type": "stream",
     "text": [
      "<class 'pandas.core.frame.DataFrame'>\n",
      "RangeIndex: 891 entries, 0 to 890\n",
      "Data columns (total 12 columns):\n",
      " #   Column       Non-Null Count  Dtype  \n",
      "---  ------       --------------  -----  \n",
      " 0   PassengerId  891 non-null    int64  \n",
      " 1   Survived     891 non-null    int64  \n",
      " 2   Pclass       891 non-null    int64  \n",
      " 3   Name         891 non-null    object \n",
      " 4   Sex          891 non-null    object \n",
      " 5   Age          714 non-null    float64\n",
      " 6   SibSp        891 non-null    int64  \n",
      " 7   Parch        891 non-null    int64  \n",
      " 8   Ticket       891 non-null    object \n",
      " 9   Fare         891 non-null    float64\n",
      " 10  Cabin        204 non-null    object \n",
      " 11  Embarked     889 non-null    object \n",
      "dtypes: float64(2), int64(5), object(5)\n",
      "memory usage: 83.7+ KB\n"
     ]
    },
    {
     "data": {
      "text/plain": [
       "None"
      ]
     },
     "metadata": {},
     "output_type": "display_data"
    }
   ],
   "source": [
    "display(X_train.info())"
   ]
  },
  {
   "cell_type": "code",
   "execution_count": 4,
   "id": "6745cd15-8b66-45d6-b9e2-08255ca9f926",
   "metadata": {
    "canvas": {
     "comments": [],
     "componentType": "CodeCell",
     "copiedOriginId": null,
     "diskcache": false,
     "headerColor": "transparent",
     "id": "cfbf95bb-a13d-48b1-8a67-988304723fb7",
     "isComponent": false,
     "name": "",
     "parents": []
    }
   },
   "outputs": [
    {
     "name": "stdout",
     "output_type": "stream",
     "text": [
      "<class 'pandas.core.frame.DataFrame'>\n",
      "RangeIndex: 418 entries, 0 to 417\n",
      "Data columns (total 11 columns):\n",
      " #   Column       Non-Null Count  Dtype  \n",
      "---  ------       --------------  -----  \n",
      " 0   PassengerId  418 non-null    int64  \n",
      " 1   Pclass       418 non-null    int64  \n",
      " 2   Name         418 non-null    object \n",
      " 3   Sex          418 non-null    object \n",
      " 4   Age          332 non-null    float64\n",
      " 5   SibSp        418 non-null    int64  \n",
      " 6   Parch        418 non-null    int64  \n",
      " 7   Ticket       418 non-null    object \n",
      " 8   Fare         417 non-null    float64\n",
      " 9   Cabin        91 non-null     object \n",
      " 10  Embarked     418 non-null    object \n",
      "dtypes: float64(2), int64(4), object(5)\n",
      "memory usage: 36.0+ KB\n"
     ]
    }
   ],
   "source": [
    "X_test.info()"
   ]
  },
  {
   "cell_type": "markdown",
   "id": "41938192-318d-46e3-b496-628763cb61d9",
   "metadata": {
    "canvas": {
     "comments": [],
     "componentType": "CodeCell",
     "copiedOriginId": null,
     "diskcache": false,
     "headerColor": "transparent",
     "id": "8a78fa8c-1b42-4865-956e-f45947dd212b",
     "isComponent": false,
     "name": "",
     "parents": []
    }
   },
   "source": [
    "We're gonna merge `X_train` and `X_test` to make the data cleaning easier."
   ]
  },
  {
   "cell_type": "code",
   "execution_count": 5,
   "id": "9fc7af2d-a44b-48fa-b431-dbcf16ce263d",
   "metadata": {
    "canvas": {
     "comments": [],
     "componentType": "CodeCell",
     "copiedOriginId": null,
     "diskcache": false,
     "headerColor": "transparent",
     "id": "018fa8be-bcde-402a-a839-11e830bdae76",
     "isComponent": false,
     "name": "",
     "parents": []
    }
   },
   "outputs": [
    {
     "name": "stdout",
     "output_type": "stream",
     "text": [
      "<class 'pandas.core.frame.DataFrame'>\n",
      "RangeIndex: 1309 entries, 0 to 1308\n",
      "Data columns (total 13 columns):\n",
      " #   Column       Non-Null Count  Dtype  \n",
      "---  ------       --------------  -----  \n",
      " 0   PassengerId  1309 non-null   int64  \n",
      " 1   Survived     891 non-null    float64\n",
      " 2   Pclass       1309 non-null   int64  \n",
      " 3   Name         1309 non-null   object \n",
      " 4   Sex          1309 non-null   object \n",
      " 5   Age          1046 non-null   float64\n",
      " 6   SibSp        1309 non-null   int64  \n",
      " 7   Parch        1309 non-null   int64  \n",
      " 8   Ticket       1309 non-null   object \n",
      " 9   Fare         1308 non-null   float64\n",
      " 10  Cabin        295 non-null    object \n",
      " 11  Embarked     1307 non-null   object \n",
      " 12  dataset      1309 non-null   object \n",
      "dtypes: float64(3), int64(4), object(6)\n",
      "memory usage: 133.1+ KB\n"
     ]
    }
   ],
   "source": [
    "X_train['dataset'] = 'train'\n",
    "X_test['dataset'] = 'test'\n",
    "X_train = pd.concat([X_train,X_test],ignore_index=True)\n",
    "X_train.info()"
   ]
  },
  {
   "cell_type": "markdown",
   "id": "583dc2e8-7bc3-4814-a043-994e8d063ac5",
   "metadata": {
    "canvas": {
     "comments": [],
     "componentType": "CodeCell",
     "copiedOriginId": null,
     "diskcache": false,
     "headerColor": "transparent",
     "id": "2c55a972-dfa8-4dcb-b577-88950632ff5f",
     "isComponent": false,
     "name": "",
     "parents": []
    }
   },
   "source": [
    "We successfully merged the data, and looks like all the dtypes are properly assigned. In `X_train` it looks like the `Age`,`Cabin`, and `Embarked` columns are missing some values. Let's take a closer look."
   ]
  },
  {
   "cell_type": "markdown",
   "id": "3fc96f0b-b380-441f-a9e8-75670c76cb98",
   "metadata": {
    "canvas": {
     "comments": [],
     "componentType": "CodeCell",
     "copiedOriginId": null,
     "diskcache": false,
     "headerColor": "transparent",
     "id": "f8dafa03-65e8-4086-acc6-84340507ac05",
     "isComponent": false,
     "name": "",
     "parents": []
    }
   },
   "source": [
    "Later in this notebook, we include an optional normalization step for the dataset and some columns need to be skipped for this step. Let's create a list to keep track of columns that we don't want normalized, appending to it as needed in the notebook."
   ]
  },
  {
   "cell_type": "code",
   "execution_count": 6,
   "id": "98e1033b-bffd-4556-b654-0865ed1a2524",
   "metadata": {
    "canvas": {
     "comments": [],
     "componentType": "CodeCell",
     "copiedOriginId": null,
     "diskcache": false,
     "headerColor": "transparent",
     "id": "da61aec0-a439-4447-be19-90965edf1cc7",
     "isComponent": false,
     "name": "",
     "parents": []
    }
   },
   "outputs": [],
   "source": [
    "cols_to_not_normalize = ['Survived','dataset']"
   ]
  },
  {
   "cell_type": "markdown",
   "id": "b3a8d698-f340-4b47-8e0d-c9e7fd9b3dc7",
   "metadata": {
    "canvas": {
     "comments": [],
     "componentType": "CodeCell",
     "copiedOriginId": null,
     "diskcache": false,
     "headerColor": "transparent",
     "id": "09ec7427-d180-41bb-9ccb-038b590f3b66",
     "isComponent": false,
     "name": "",
     "parents": []
    }
   },
   "source": [
    "## 2.1 - Cleaning `Cabin`"
   ]
  },
  {
   "cell_type": "markdown",
   "id": "1e6f0edb-5928-4540-aa18-982ff52827a7",
   "metadata": {
    "canvas": {
     "comments": [],
     "componentType": "CodeCell",
     "copiedOriginId": null,
     "diskcache": false,
     "headerColor": "transparent",
     "id": "fd65549c-15d4-467a-a000-be3fccb8b8d0",
     "isComponent": false,
     "name": "",
     "parents": []
    }
   },
   "source": [
    "Let's first take a closer look at the `Cabin` column."
   ]
  },
  {
   "cell_type": "code",
   "execution_count": 7,
   "id": "7965ba10-3f16-42b9-84f4-53cd85614275",
   "metadata": {
    "canvas": {
     "comments": [],
     "componentType": "CodeCell",
     "copiedOriginId": null,
     "diskcache": false,
     "headerColor": "transparent",
     "id": "1beeec70-f057-4420-9f17-9920cb4fe80e",
     "isComponent": false,
     "name": "",
     "parents": []
    }
   },
   "outputs": [
    {
     "data": {
      "text/plain": [
       "NaN                1014\n",
       "C23 C25 C27           6\n",
       "B57 B59 B63 B66       5\n",
       "G6                    5\n",
       "F33                   4\n",
       "                   ... \n",
       "A14                   1\n",
       "E63                   1\n",
       "E12                   1\n",
       "E38                   1\n",
       "C105                  1\n",
       "Name: Cabin, Length: 187, dtype: int64"
      ]
     },
     "execution_count": 7,
     "metadata": {},
     "output_type": "execute_result"
    }
   ],
   "source": [
    "X_train['Cabin'].value_counts(dropna=False)"
   ]
  },
  {
   "cell_type": "markdown",
   "id": "0869d5d6-e2bf-455a-8c9d-689cf2ae2342",
   "metadata": {
    "canvas": {
     "comments": [],
     "componentType": "CodeCell",
     "copiedOriginId": null,
     "diskcache": false,
     "headerColor": "transparent",
     "id": "0f18bb01-1058-403e-8778-28a8089dca90",
     "isComponent": false,
     "name": "",
     "parents": []
    }
   },
   "source": [
    "Looks like there are 187 (apart from `NaN`) unique values in the `Cabin` column, and about 1014 of those values are missing. Unfortunately, as a result, this means that imputation isn't a good candidate for cleaning this column, hence we'll need to drop it altogether."
   ]
  },
  {
   "cell_type": "markdown",
   "id": "e72b27e7-da7a-4b5c-b87d-86332ce2fac6",
   "metadata": {
    "canvas": {
     "comments": [],
     "componentType": "CodeCell",
     "copiedOriginId": null,
     "diskcache": false,
     "headerColor": "transparent",
     "id": "a07d05d7-5a8d-4a29-8183-6273feb23c7d",
     "isComponent": false,
     "name": "",
     "parents": []
    }
   },
   "source": [
    "### 2.1.A - Dropping `Cabin`"
   ]
  },
  {
   "cell_type": "code",
   "execution_count": 8,
   "id": "3f094b01-145e-4e91-9bcd-85dff821bc50",
   "metadata": {
    "canvas": {
     "comments": [],
     "componentType": "CodeCell",
     "copiedOriginId": null,
     "diskcache": false,
     "headerColor": "transparent",
     "id": "d0f0a256-d388-4403-bbbc-be7fe2635b64",
     "isComponent": false,
     "name": "",
     "parents": []
    }
   },
   "outputs": [
    {
     "data": {
      "text/html": [
       "<div>\n",
       "<style scoped>\n",
       "    .dataframe tbody tr th:only-of-type {\n",
       "        vertical-align: middle;\n",
       "    }\n",
       "\n",
       "    .dataframe tbody tr th {\n",
       "        vertical-align: top;\n",
       "    }\n",
       "\n",
       "    .dataframe thead th {\n",
       "        text-align: right;\n",
       "    }\n",
       "</style>\n",
       "<table border=\"1\" class=\"dataframe\">\n",
       "  <thead>\n",
       "    <tr style=\"text-align: right;\">\n",
       "      <th></th>\n",
       "      <th>PassengerId</th>\n",
       "      <th>Survived</th>\n",
       "      <th>Pclass</th>\n",
       "      <th>Name</th>\n",
       "      <th>Sex</th>\n",
       "      <th>Age</th>\n",
       "      <th>SibSp</th>\n",
       "      <th>Parch</th>\n",
       "      <th>Ticket</th>\n",
       "      <th>Fare</th>\n",
       "      <th>Embarked</th>\n",
       "      <th>dataset</th>\n",
       "    </tr>\n",
       "  </thead>\n",
       "  <tbody>\n",
       "    <tr>\n",
       "      <th>0</th>\n",
       "      <td>1</td>\n",
       "      <td>0.0</td>\n",
       "      <td>3</td>\n",
       "      <td>Braund, Mr. Owen Harris</td>\n",
       "      <td>male</td>\n",
       "      <td>22.0</td>\n",
       "      <td>1</td>\n",
       "      <td>0</td>\n",
       "      <td>A/5 21171</td>\n",
       "      <td>7.2500</td>\n",
       "      <td>S</td>\n",
       "      <td>train</td>\n",
       "    </tr>\n",
       "    <tr>\n",
       "      <th>1</th>\n",
       "      <td>2</td>\n",
       "      <td>1.0</td>\n",
       "      <td>1</td>\n",
       "      <td>Cumings, Mrs. John Bradley (Florence Briggs Th...</td>\n",
       "      <td>female</td>\n",
       "      <td>38.0</td>\n",
       "      <td>1</td>\n",
       "      <td>0</td>\n",
       "      <td>PC 17599</td>\n",
       "      <td>71.2833</td>\n",
       "      <td>C</td>\n",
       "      <td>train</td>\n",
       "    </tr>\n",
       "    <tr>\n",
       "      <th>2</th>\n",
       "      <td>3</td>\n",
       "      <td>1.0</td>\n",
       "      <td>3</td>\n",
       "      <td>Heikkinen, Miss. Laina</td>\n",
       "      <td>female</td>\n",
       "      <td>26.0</td>\n",
       "      <td>0</td>\n",
       "      <td>0</td>\n",
       "      <td>STON/O2. 3101282</td>\n",
       "      <td>7.9250</td>\n",
       "      <td>S</td>\n",
       "      <td>train</td>\n",
       "    </tr>\n",
       "    <tr>\n",
       "      <th>3</th>\n",
       "      <td>4</td>\n",
       "      <td>1.0</td>\n",
       "      <td>1</td>\n",
       "      <td>Futrelle, Mrs. Jacques Heath (Lily May Peel)</td>\n",
       "      <td>female</td>\n",
       "      <td>35.0</td>\n",
       "      <td>1</td>\n",
       "      <td>0</td>\n",
       "      <td>113803</td>\n",
       "      <td>53.1000</td>\n",
       "      <td>S</td>\n",
       "      <td>train</td>\n",
       "    </tr>\n",
       "    <tr>\n",
       "      <th>4</th>\n",
       "      <td>5</td>\n",
       "      <td>0.0</td>\n",
       "      <td>3</td>\n",
       "      <td>Allen, Mr. William Henry</td>\n",
       "      <td>male</td>\n",
       "      <td>35.0</td>\n",
       "      <td>0</td>\n",
       "      <td>0</td>\n",
       "      <td>373450</td>\n",
       "      <td>8.0500</td>\n",
       "      <td>S</td>\n",
       "      <td>train</td>\n",
       "    </tr>\n",
       "  </tbody>\n",
       "</table>\n",
       "</div>"
      ],
      "text/plain": [
       "   PassengerId  Survived  Pclass  \\\n",
       "0            1       0.0       3   \n",
       "1            2       1.0       1   \n",
       "2            3       1.0       3   \n",
       "3            4       1.0       1   \n",
       "4            5       0.0       3   \n",
       "\n",
       "                                                Name     Sex   Age  SibSp  \\\n",
       "0                            Braund, Mr. Owen Harris    male  22.0      1   \n",
       "1  Cumings, Mrs. John Bradley (Florence Briggs Th...  female  38.0      1   \n",
       "2                             Heikkinen, Miss. Laina  female  26.0      0   \n",
       "3       Futrelle, Mrs. Jacques Heath (Lily May Peel)  female  35.0      1   \n",
       "4                           Allen, Mr. William Henry    male  35.0      0   \n",
       "\n",
       "   Parch            Ticket     Fare Embarked dataset  \n",
       "0      0         A/5 21171   7.2500        S   train  \n",
       "1      0          PC 17599  71.2833        C   train  \n",
       "2      0  STON/O2. 3101282   7.9250        S   train  \n",
       "3      0            113803  53.1000        S   train  \n",
       "4      0            373450   8.0500        S   train  "
      ]
     },
     "metadata": {},
     "output_type": "display_data"
    },
    {
     "name": "stdout",
     "output_type": "stream",
     "text": [
      "<class 'pandas.core.frame.DataFrame'>\n",
      "RangeIndex: 1309 entries, 0 to 1308\n",
      "Data columns (total 12 columns):\n",
      " #   Column       Non-Null Count  Dtype  \n",
      "---  ------       --------------  -----  \n",
      " 0   PassengerId  1309 non-null   int64  \n",
      " 1   Survived     891 non-null    float64\n",
      " 2   Pclass       1309 non-null   int64  \n",
      " 3   Name         1309 non-null   object \n",
      " 4   Sex          1309 non-null   object \n",
      " 5   Age          1046 non-null   float64\n",
      " 6   SibSp        1309 non-null   int64  \n",
      " 7   Parch        1309 non-null   int64  \n",
      " 8   Ticket       1309 non-null   object \n",
      " 9   Fare         1308 non-null   float64\n",
      " 10  Embarked     1307 non-null   object \n",
      " 11  dataset      1309 non-null   object \n",
      "dtypes: float64(3), int64(4), object(5)\n",
      "memory usage: 122.8+ KB\n"
     ]
    },
    {
     "data": {
      "text/plain": [
       "None"
      ]
     },
     "metadata": {},
     "output_type": "display_data"
    }
   ],
   "source": [
    "X_train = X_train.drop(columns = 'Cabin')\n",
    "display(X_train.head())\n",
    "display(X_train.info())"
   ]
  },
  {
   "cell_type": "markdown",
   "id": "75122be6-87fd-452d-91f5-53eb27e71c00",
   "metadata": {
    "canvas": {
     "comments": [],
     "componentType": "CodeCell",
     "copiedOriginId": null,
     "diskcache": false,
     "headerColor": "transparent",
     "id": "20b07216-43fb-4ee0-8cb2-f92253931f26",
     "isComponent": false,
     "name": "",
     "parents": []
    }
   },
   "source": [
    "### 2.1.B - Doing something else..."
   ]
  },
  {
   "cell_type": "code",
   "execution_count": 9,
   "id": "2df5814e-020e-4541-8f6c-bbbd72f90f7e",
   "metadata": {
    "canvas": {
     "comments": [],
     "componentType": "CodeCell",
     "copiedOriginId": null,
     "diskcache": false,
     "headerColor": "transparent",
     "id": "4191d418-2f3b-4e6a-a948-4ebd6388b6e8",
     "isComponent": false,
     "name": "",
     "parents": []
    }
   },
   "outputs": [],
   "source": [
    "# insert code here"
   ]
  },
  {
   "cell_type": "markdown",
   "id": "58d31be9-f7f1-47f6-9efb-591379211117",
   "metadata": {
    "canvas": {
     "comments": [],
     "componentType": "CodeCell",
     "copiedOriginId": null,
     "diskcache": false,
     "headerColor": "transparent",
     "id": "97c73031-8ba4-4b69-8f0a-554faa6009c7",
     "isComponent": false,
     "name": "",
     "parents": []
    }
   },
   "source": [
    "## 2.2 - Cleaning `Embarked`"
   ]
  },
  {
   "cell_type": "markdown",
   "id": "2f0ffebe-6ac9-4124-8159-38e5c663fd0c",
   "metadata": {
    "canvas": {
     "comments": [],
     "componentType": "CodeCell",
     "copiedOriginId": null,
     "diskcache": false,
     "headerColor": "transparent",
     "id": "fbac54ce-1f1e-4e1e-9d63-50f4dae408f9",
     "isComponent": false,
     "name": "",
     "parents": []
    }
   },
   "source": [
    "Next, let's take a look at the `Embarked` column, and see what course of action is best suited for cleaning up this column."
   ]
  },
  {
   "cell_type": "code",
   "execution_count": 10,
   "id": "475fca08-d1d6-4386-b293-eb9499d9763b",
   "metadata": {
    "canvas": {
     "comments": [],
     "componentType": "CodeCell",
     "copiedOriginId": null,
     "diskcache": false,
     "headerColor": "transparent",
     "id": "03519832-fd2a-4f9b-b3ac-9269c97410d5",
     "isComponent": false,
     "name": "",
     "parents": []
    }
   },
   "outputs": [
    {
     "data": {
      "text/plain": [
       "dataset  Embarked\n",
       "test     S           270\n",
       "         C           102\n",
       "         Q            46\n",
       "train    S           644\n",
       "         C           168\n",
       "         Q            77\n",
       "         NaN           2\n",
       "Name: Embarked, dtype: int64"
      ]
     },
     "execution_count": 10,
     "metadata": {},
     "output_type": "execute_result"
    }
   ],
   "source": [
    "dataset_grouped = X_train.groupby(['dataset'])\n",
    "dataset_grouped['Embarked'].value_counts(dropna=False)"
   ]
  },
  {
   "cell_type": "markdown",
   "id": "91c3ffdd-492f-4301-be29-8cebfe9fbe4d",
   "metadata": {
    "canvas": {
     "comments": [],
     "componentType": "CodeCell",
     "copiedOriginId": null,
     "diskcache": false,
     "headerColor": "transparent",
     "id": "557d9fc3-423e-4dde-b698-0ec195fca1c1",
     "isComponent": false,
     "name": "",
     "parents": []
    }
   },
   "source": [
    "This column only has three unique values, suggesting imputation might be workable. However since only 2 out of 891 values are missing in this column, we can reliably drop the rows containing these missing values, confident that it won't noticeably affect the quality of our dataset. In this case, doing the easy thing (dropping the rows) is justified. Note we only want to do this for the training dataset, not the test dataset."
   ]
  },
  {
   "cell_type": "code",
   "execution_count": 11,
   "id": "0b2abae7-88fd-447b-8e56-620d21c70fd3",
   "metadata": {
    "canvas": {
     "comments": [],
     "componentType": "CodeCell",
     "copiedOriginId": null,
     "diskcache": false,
     "headerColor": "transparent",
     "id": "7f292938-6a82-4b58-bc99-b64492295cd8",
     "isComponent": false,
     "name": "",
     "parents": []
    }
   },
   "outputs": [
    {
     "data": {
      "text/plain": [
       "S    644\n",
       "C    168\n",
       "Q     77\n",
       "Name: Embarked, dtype: int64"
      ]
     },
     "execution_count": 11,
     "metadata": {},
     "output_type": "execute_result"
    }
   ],
   "source": [
    "temp = X_train.loc[X_train['dataset']=='train',:].dropna(subset=['Embarked'])\n",
    "temp['Embarked'].value_counts(dropna=False)"
   ]
  },
  {
   "cell_type": "code",
   "execution_count": 12,
   "id": "8bbdee44-8657-431e-9374-04b1d62972a1",
   "metadata": {
    "canvas": {
     "comments": [],
     "componentType": "CodeCell",
     "copiedOriginId": null,
     "diskcache": false,
     "headerColor": "transparent",
     "id": "17446cb7-3125-47c5-9216-09ceb5e1e5ae",
     "isComponent": false,
     "name": "",
     "parents": []
    }
   },
   "outputs": [
    {
     "data": {
      "text/plain": [
       "1307"
      ]
     },
     "execution_count": 12,
     "metadata": {},
     "output_type": "execute_result"
    }
   ],
   "source": [
    "X_train = X_train.drop(index=X_train.index[X_train['dataset']=='train'])\n",
    "X_train = pd.concat([X_train,temp])\n",
    "X_train.shape[0]"
   ]
  },
  {
   "cell_type": "code",
   "execution_count": 13,
   "id": "3de1486b-bb5f-4106-81d0-d0e55c2fc83c",
   "metadata": {
    "canvas": {
     "comments": [],
     "componentType": "CodeCell",
     "copiedOriginId": null,
     "diskcache": false,
     "headerColor": "transparent",
     "id": "b2d7623b-9033-46f1-93b5-b1d0dc7e9bce",
     "isComponent": false,
     "name": "",
     "parents": []
    }
   },
   "outputs": [
    {
     "data": {
      "text/plain": [
       "dataset  Embarked\n",
       "test     S           270\n",
       "         C           102\n",
       "         Q            46\n",
       "train    S           644\n",
       "         C           168\n",
       "         Q            77\n",
       "Name: Embarked, dtype: int64"
      ]
     },
     "execution_count": 13,
     "metadata": {},
     "output_type": "execute_result"
    }
   ],
   "source": [
    "X_train.groupby(['dataset'])['Embarked'].value_counts(dropna=False)"
   ]
  },
  {
   "cell_type": "markdown",
   "id": "f3533fa1-af31-4fd4-895d-dea8dcf3d239",
   "metadata": {
    "canvas": {
     "comments": [],
     "componentType": "CodeCell",
     "copiedOriginId": null,
     "diskcache": false,
     "headerColor": "transparent",
     "id": "924bdf3f-8dde-4e66-a524-34e2137bef97",
     "isComponent": false,
     "name": "",
     "parents": []
    }
   },
   "source": [
    "Nice, we've successfully dropped the rows where the `Embarked` column is NaN."
   ]
  },
  {
   "cell_type": "markdown",
   "id": "04d02cec-ae2c-466b-b89c-28508a06c6fd",
   "metadata": {
    "canvas": {
     "comments": [],
     "componentType": "CodeCell",
     "copiedOriginId": null,
     "diskcache": false,
     "headerColor": "transparent",
     "id": "04245fc4-c6a0-460f-9493-5ad32173e4f9",
     "isComponent": false,
     "name": "",
     "parents": []
    }
   },
   "source": [
    "## 2.3 - Cleaning `Age`"
   ]
  },
  {
   "cell_type": "markdown",
   "id": "d67d7d70-3d91-4e2a-b203-33f287035f37",
   "metadata": {
    "canvas": {
     "comments": [],
     "componentType": "CodeCell",
     "copiedOriginId": null,
     "diskcache": false,
     "headerColor": "transparent",
     "id": "efdd31e0-251b-4589-be78-b27c7e33844c",
     "isComponent": false,
     "name": "",
     "parents": []
    }
   },
   "source": [
    "Now we tackle the `Age` column."
   ]
  },
  {
   "cell_type": "code",
   "execution_count": 14,
   "id": "c7f041f2-b0fe-4387-a848-91860ac9c5e2",
   "metadata": {
    "canvas": {
     "comments": [],
     "componentType": "CodeCell",
     "copiedOriginId": null,
     "diskcache": false,
     "headerColor": "transparent",
     "id": "c5bd3246-7b09-4ac7-8a49-65e147d8b567",
     "isComponent": false,
     "name": "",
     "parents": []
    }
   },
   "outputs": [
    {
     "data": {
      "text/plain": [
       "NaN      263\n",
       "24.00     47\n",
       "22.00     43\n",
       "21.00     41\n",
       "30.00     40\n",
       "        ... \n",
       "11.50      1\n",
       "0.33       1\n",
       "66.00      1\n",
       "38.50      1\n",
       "74.00      1\n",
       "Name: Age, Length: 99, dtype: int64"
      ]
     },
     "execution_count": 14,
     "metadata": {},
     "output_type": "execute_result"
    }
   ],
   "source": [
    "X_train['Age'].value_counts(dropna=False)"
   ]
  },
  {
   "cell_type": "code",
   "execution_count": 15,
   "id": "a75baff0-2c87-44da-b5ef-d8812b77659c",
   "metadata": {
    "canvas": {
     "comments": [],
     "componentType": "CodeCell",
     "copiedOriginId": null,
     "diskcache": false,
     "headerColor": "transparent",
     "id": "7e6925a2-85e0-4ee4-a521-0bc9d21a95a6",
     "isComponent": false,
     "name": "",
     "parents": []
    }
   },
   "outputs": [
    {
     "data": {
      "text/plain": [
       "count    1044.000000\n",
       "mean       29.842596\n",
       "std        14.390739\n",
       "min         0.170000\n",
       "25%        21.000000\n",
       "50%        28.000000\n",
       "75%        39.000000\n",
       "max        80.000000\n",
       "Name: Age, dtype: float64"
      ]
     },
     "execution_count": 15,
     "metadata": {},
     "output_type": "execute_result"
    }
   ],
   "source": [
    "X_train['Age'].describe()"
   ]
  },
  {
   "cell_type": "code",
   "execution_count": 16,
   "id": "755ccf1e-66b0-4c32-82c7-eb9b72362d94",
   "metadata": {
    "canvas": {
     "comments": [],
     "componentType": "CodeCell",
     "copiedOriginId": null,
     "diskcache": false,
     "headerColor": "transparent",
     "id": "59075427-b603-49bb-bd2d-98d2c7e97d48",
     "isComponent": false,
     "name": "",
     "parents": []
    }
   },
   "outputs": [
    {
     "data": {
      "text/plain": [
       "<Axes: >"
      ]
     },
     "execution_count": 16,
     "metadata": {},
     "output_type": "execute_result"
    },
    {
     "data": {
      "image/png": "[encoded data removed]",
      "text/plain": [
       "<Figure size 640x480 with 1 Axes>"
      ]
     },
     "metadata": {},
     "output_type": "display_data"
    }
   ],
   "source": [
    "def age_group(element):\n",
    "    if element <= 20:\n",
    "        group_assignment = '0-20'\n",
    "    elif (element > 20) and (element <= 40):\n",
    "        group_assignment = '21-40'\n",
    "    elif (element > 40) and (element <= 60):\n",
    "        group_assignment = '41-60'\n",
    "    else:\n",
    "        group_assignment = '60-80'\n",
    "        \n",
    "    return group_assignment\n",
    "\n",
    "temp = pd.DataFrame(X_train['Age'].dropna())\n",
    "temp['age_group'] = X_train['Age'].apply(age_group)\n",
    "temp['age_group'].value_counts().plot(kind='bar')"
   ]
  },
  {
   "cell_type": "markdown",
   "id": "ef696e67-56b1-4617-9d7d-a78ac2cfd25c",
   "metadata": {
    "canvas": {
     "comments": [],
     "componentType": "CodeCell",
     "copiedOriginId": null,
     "diskcache": false,
     "headerColor": "transparent",
     "id": "d718e730-18cb-4124-95b5-1649479f7bca",
     "isComponent": false,
     "name": "",
     "parents": []
    },
    "tags": []
   },
   "source": [
    "### 2.3.A - Deleting all rows with no `Age` input"
   ]
  },
  {
   "cell_type": "markdown",
   "id": "007ea9db-8ce7-4faa-86fe-d33fc728f8e1",
   "metadata": {
    "canvas": {
     "comments": [],
     "componentType": "CodeCell",
     "copiedOriginId": null,
     "diskcache": false,
     "headerColor": "transparent",
     "id": "2aa30e7a-93ae-4c82-a1b9-b8e43face402",
     "isComponent": false,
     "name": "",
     "parents": []
    }
   },
   "source": [
    "The most straightforward way we can handle the lack of `Age` data is to delete all rows without a value for Age. On the one hand, this gives us a clean dataset, but on the other hand it decreases our number of training examples by 20%. Let's delete and see what happens."
   ]
  },
  {
   "cell_type": "code",
   "execution_count": 15,
   "id": "83c2ac53-d40d-46e1-8f3c-96af87981ab8",
   "metadata": {
    "canvas": {
     "comments": [],
     "componentType": "CodeCell",
     "copiedOriginId": null,
     "diskcache": false,
     "headerColor": "transparent",
     "id": "9b3560cd-cccb-42d2-aee6-eef76e49f00a",
     "isComponent": false,
     "name": "",
     "parents": []
    }
   },
   "outputs": [
    {
     "data": {
      "text/plain": [
       "24.0    47\n",
       "22.0    43\n",
       "21.0    41\n",
       "30.0    40\n",
       "18.0    39\n",
       "        ..\n",
       "60.5     1\n",
       "76.0     1\n",
       "67.0     1\n",
       "22.5     1\n",
       "74.0     1\n",
       "Name: Age, Length: 98, dtype: int64"
      ]
     },
     "metadata": {},
     "output_type": "display_data"
    },
    {
     "data": {
      "text/plain": [
       "1044"
      ]
     },
     "metadata": {},
     "output_type": "display_data"
    }
   ],
   "source": [
    "X_train1 = X_train.dropna(subset=['Age'])\n",
    "display(X_train1['Age'].value_counts(dropna=False))\n",
    "display(X_train1.shape[0])"
   ]
  },
  {
   "cell_type": "markdown",
   "id": "c48214ee-5796-4a74-a2ff-c9a9457b41ae",
   "metadata": {
    "canvas": {
     "comments": [],
     "componentType": "CodeCell",
     "copiedOriginId": null,
     "diskcache": false,
     "headerColor": "transparent",
     "id": "ed280829-aac3-4f66-aaa9-ddb888bceb60",
     "isComponent": false,
     "name": "",
     "parents": []
    }
   },
   "source": [
    "Done. Let's move on"
   ]
  },
  {
   "cell_type": "markdown",
   "id": "55633010-4985-42ab-a9e0-20e60b95cbbe",
   "metadata": {
    "canvas": {
     "comments": [],
     "componentType": "CodeCell",
     "copiedOriginId": null,
     "diskcache": false,
     "headerColor": "transparent",
     "id": "410260b8-d7d1-4101-87a3-65a8ba5ae31f",
     "isComponent": false,
     "name": "",
     "parents": []
    }
   },
   "source": [
    "### 2.3.B - Mean imputing the rows missing an `Age`"
   ]
  },
  {
   "cell_type": "markdown",
   "id": "32f9c3b7-8dc2-4347-aae5-34e2a5d45ebf",
   "metadata": {
    "canvas": {
     "comments": [],
     "componentType": "CodeCell",
     "copiedOriginId": null,
     "diskcache": false,
     "headerColor": "transparent",
     "id": "92879776-130a-446f-9bdc-19ca2ea16923",
     "isComponent": false,
     "name": "",
     "parents": []
    }
   },
   "source": [
    "Let's impute the mean of the `Age` column for all missing `Age` values"
   ]
  },
  {
   "cell_type": "code",
   "execution_count": 17,
   "id": "32158941-7ba1-4595-b7ec-e342b445efd5",
   "metadata": {
    "canvas": {
     "comments": [],
     "componentType": "CodeCell",
     "copiedOriginId": null,
     "diskcache": false,
     "headerColor": "transparent",
     "id": "e08ca8a8-0d9f-46b0-a003-9393bce1414f",
     "isComponent": false,
     "name": "",
     "parents": []
    }
   },
   "outputs": [
    {
     "data": {
      "text/plain": [
       "0"
      ]
     },
     "execution_count": 17,
     "metadata": {},
     "output_type": "execute_result"
    }
   ],
   "source": [
    "grouped = X_train.groupby('dataset')\n",
    "age_mean = grouped['Age'].mean()['train']\n",
    "X_train.loc[X_train['Age'].isnull(),'Age'] = age_mean\n",
    "X_train['Age'].isnull().sum()"
   ]
  },
  {
   "cell_type": "markdown",
   "id": "c1b14bf5-2f8f-434a-b2d6-789d02368557",
   "metadata": {
    "canvas": {
     "comments": [],
     "componentType": "CodeCell",
     "copiedOriginId": null,
     "diskcache": false,
     "headerColor": "transparent",
     "id": "f569c09e-fb76-41dc-96f5-82ef4e62a657",
     "isComponent": false,
     "name": "",
     "parents": []
    }
   },
   "source": [
    "Success, moving on."
   ]
  },
  {
   "cell_type": "markdown",
   "id": "65eed5d9-d471-4862-b102-d61ef0c0a17a",
   "metadata": {
    "canvas": {
     "comments": [],
     "componentType": "CodeCell",
     "copiedOriginId": null,
     "diskcache": false,
     "headerColor": "transparent",
     "id": "a91be1d7-ed15-4cad-9c46-6048737b54bd",
     "isComponent": false,
     "name": "",
     "parents": []
    }
   },
   "source": [
    "## 2.4 - Cleaning `Name`"
   ]
  },
  {
   "cell_type": "markdown",
   "id": "aaf7aca5-49c1-4f7b-be70-786360260498",
   "metadata": {
    "canvas": {
     "comments": [],
     "componentType": "CodeCell",
     "copiedOriginId": null,
     "diskcache": false,
     "headerColor": "transparent",
     "id": "13c5da4c-4b69-4e32-a6ad-b27352685fe9",
     "isComponent": false,
     "name": "",
     "parents": []
    }
   },
   "source": [
    "The `name` column is a categorical. We have a couple options on how to use this column:\n",
    "- We delete it altogether\n",
    "- We can try to extract some info (for example the prefixes) from each name\n",
    "\n",
    "We'll explore both approaches below."
   ]
  },
  {
   "cell_type": "markdown",
   "id": "7634e63a-c460-4b61-8c6a-fbb6e612fdd3",
   "metadata": {
    "canvas": {
     "comments": [],
     "componentType": "CodeCell",
     "copiedOriginId": null,
     "diskcache": false,
     "headerColor": "transparent",
     "id": "35696563-3bc2-4937-9184-f72b98376e01",
     "isComponent": false,
     "name": "",
     "parents": []
    }
   },
   "source": [
    "### 2.4.A - Deleting the `Name` column altogether"
   ]
  },
  {
   "cell_type": "code",
   "execution_count": 149,
   "id": "54dfe711-23ff-4d72-81aa-6ce0240a7832",
   "metadata": {
    "canvas": {
     "comments": [],
     "componentType": "CodeCell",
     "copiedOriginId": null,
     "diskcache": false,
     "headerColor": "transparent",
     "id": "e3f79179-63ae-48d7-9a44-f5c4ac42078d",
     "isComponent": false,
     "name": "",
     "parents": []
    }
   },
   "outputs": [],
   "source": [
    "X_train = X_train.drop(columns=['Name'])"
   ]
  },
  {
   "cell_type": "markdown",
   "id": "4ba0b33b-2f41-4014-a2f9-446dbe4de58f",
   "metadata": {
    "canvas": {
     "comments": [],
     "componentType": "CodeCell",
     "copiedOriginId": null,
     "diskcache": false,
     "headerColor": "transparent",
     "id": "689b700f-e7c4-4ad2-a514-a69d55494bfd",
     "isComponent": false,
     "name": "",
     "parents": []
    }
   },
   "source": [
    "### 2.4.B - Extracting info from the `Name` column, and then deleting it"
   ]
  },
  {
   "cell_type": "markdown",
   "id": "08d469d4-2832-469e-b6d1-95e5aaa10896",
   "metadata": {
    "canvas": {
     "comments": [],
     "componentType": "CodeCell",
     "copiedOriginId": null,
     "diskcache": false,
     "headerColor": "transparent",
     "id": "f57678c2-1cf9-48c3-8d57-d27ef7db3361",
     "isComponent": false,
     "name": "",
     "parents": []
    }
   },
   "source": [
    "In this section, we'll extract some information from the Name column. Let's extract prefixes (Mr., Mrs., etc) and store that in a separate column."
   ]
  },
  {
   "cell_type": "code",
   "execution_count": 18,
   "id": "c8c7cb67-d094-4481-8d69-b1bcf2078f1b",
   "metadata": {
    "canvas": {
     "comments": [],
     "componentType": "CodeCell",
     "copiedOriginId": null,
     "diskcache": false,
     "headerColor": "transparent",
     "id": "137a65e6-d763-4c04-b071-66c63eeb5db0",
     "isComponent": false,
     "name": "",
     "parents": []
    }
   },
   "outputs": [
    {
     "data": {
      "text/html": [
       "<div>\n",
       "<style scoped>\n",
       "    .dataframe tbody tr th:only-of-type {\n",
       "        vertical-align: middle;\n",
       "    }\n",
       "\n",
       "    .dataframe tbody tr th {\n",
       "        vertical-align: top;\n",
       "    }\n",
       "\n",
       "    .dataframe thead th {\n",
       "        text-align: right;\n",
       "    }\n",
       "</style>\n",
       "<table border=\"1\" class=\"dataframe\">\n",
       "  <thead>\n",
       "    <tr style=\"text-align: right;\">\n",
       "      <th></th>\n",
       "      <th>prefix</th>\n",
       "    </tr>\n",
       "  </thead>\n",
       "  <tbody>\n",
       "    <tr>\n",
       "      <th>891</th>\n",
       "      <td>Mr</td>\n",
       "    </tr>\n",
       "    <tr>\n",
       "      <th>892</th>\n",
       "      <td>Mrs</td>\n",
       "    </tr>\n",
       "    <tr>\n",
       "      <th>893</th>\n",
       "      <td>Mr</td>\n",
       "    </tr>\n",
       "    <tr>\n",
       "      <th>894</th>\n",
       "      <td>Mr</td>\n",
       "    </tr>\n",
       "    <tr>\n",
       "      <th>895</th>\n",
       "      <td>Mrs</td>\n",
       "    </tr>\n",
       "  </tbody>\n",
       "</table>\n",
       "</div>"
      ],
      "text/plain": [
       "    prefix\n",
       "891     Mr\n",
       "892    Mrs\n",
       "893     Mr\n",
       "894     Mr\n",
       "895    Mrs"
      ]
     },
     "execution_count": 18,
     "metadata": {},
     "output_type": "execute_result"
    }
   ],
   "source": [
    "# pattern = r\",\\s(?P<prefix>\\w+)\\.\"\n",
    "pattern = r\",\\s(?P<prefix>[\\w\\s]+)\\.\"\n",
    "prefix = X_train['Name'].str.extract(pattern)\n",
    "prefix.head()"
   ]
  },
  {
   "cell_type": "code",
   "execution_count": 19,
   "id": "fca24470-b7ee-453c-b3e4-c1dcc9591bfb",
   "metadata": {
    "canvas": {
     "comments": [],
     "componentType": "CodeCell",
     "copiedOriginId": null,
     "diskcache": false,
     "headerColor": "transparent",
     "id": "3f8109cb-0f25-407f-946d-34e2c9ec8745",
     "isComponent": false,
     "name": "",
     "parents": []
    }
   },
   "outputs": [
    {
     "data": {
      "text/plain": [
       "prefix      \n",
       "Mr              757\n",
       "Miss            259\n",
       "Mrs             196\n",
       "Master           61\n",
       "Rev               8\n",
       "Dr                8\n",
       "Col               4\n",
       "Ms                2\n",
       "Major             2\n",
       "Mlle              2\n",
       "Sir               1\n",
       "Capt              1\n",
       "Mme               1\n",
       "Lady              1\n",
       "Jonkheer          1\n",
       "Dona              1\n",
       "Don               1\n",
       "the Countess      1\n",
       "dtype: int64"
      ]
     },
     "execution_count": 19,
     "metadata": {},
     "output_type": "execute_result"
    }
   ],
   "source": [
    "prefix.value_counts(dropna=False)"
   ]
  },
  {
   "cell_type": "markdown",
   "id": "949ad54d-698f-472e-b30c-b74d19ffb2f1",
   "metadata": {
    "canvas": {
     "comments": [],
     "componentType": "CodeCell",
     "copiedOriginId": null,
     "diskcache": false,
     "headerColor": "transparent",
     "id": "5430af1a-b427-4c36-8a00-894d18efdb01",
     "isComponent": false,
     "name": "",
     "parents": []
    }
   },
   "source": [
    "#### 2.4.B.A - Turning prefix into new features (Schema 1)"
   ]
  },
  {
   "cell_type": "markdown",
   "id": "f5128ab8-d1d5-48cb-9932-06ae8ee350f7",
   "metadata": {
    "canvas": {
     "comments": [],
     "componentType": "CodeCell",
     "copiedOriginId": null,
     "diskcache": false,
     "headerColor": "transparent",
     "id": "23a48dc4-3e7c-47ea-b9ca-10b660ddf9e2",
     "isComponent": false,
     "name": "",
     "parents": []
    }
   },
   "source": [
    "Let's turn the prefix column into the following column:\n",
    "- **is_standard_prefix**: 1 if prefix is Mr, Mrs, Miss, Master, Ms; 0 otherwise (essentially if prefix is a non-standard prefix)\n",
    "- **not_standard_prefix**: 0 if prefix is Mr, Mrs, Miss, Master, Ms; 1 otherwise (essentially if prefix is a non-standard prefix)"
   ]
  },
  {
   "cell_type": "code",
   "execution_count": 53,
   "id": "eaafaa94-a371-4226-a9d3-642979dc460c",
   "metadata": {
    "canvas": {
     "comments": [],
     "componentType": "CodeCell",
     "copiedOriginId": null,
     "diskcache": false,
     "headerColor": "transparent",
     "id": "45995ad8-033c-4230-8c84-74a58a907412",
     "isComponent": false,
     "name": "",
     "parents": []
    }
   },
   "outputs": [],
   "source": [
    "X_train['is_standard_prefix'] = (prefix == 'Mr')|(prefix == 'Mrs')|(prefix == 'Miss')|(prefix == 'Master')\n",
    "X_train['not_standard_prefix'] = ~X_train['is_standard_prefix']\n",
    "X_train['is_standard_prefix'] = X_train['is_standard_prefix'].astype(int)\n",
    "X_train['not_standard_prefix'] = X_train['not_standard_prefix'].astype(int)"
   ]
  },
  {
   "cell_type": "code",
   "execution_count": 54,
   "id": "7020a7b2-6294-4a45-92a3-b5e5ec84a49b",
   "metadata": {
    "canvas": {
     "comments": [],
     "componentType": "CodeCell",
     "copiedOriginId": null,
     "diskcache": false,
     "headerColor": "transparent",
     "id": "e43f09e8-ad46-4b75-b2b4-5888ac666f60",
     "isComponent": false,
     "name": "",
     "parents": []
    }
   },
   "outputs": [
    {
     "data": {
      "text/html": [
       "<div>\n",
       "<style scoped>\n",
       "    .dataframe tbody tr th:only-of-type {\n",
       "        vertical-align: middle;\n",
       "    }\n",
       "\n",
       "    .dataframe tbody tr th {\n",
       "        vertical-align: top;\n",
       "    }\n",
       "\n",
       "    .dataframe thead th {\n",
       "        text-align: right;\n",
       "    }\n",
       "</style>\n",
       "<table border=\"1\" class=\"dataframe\">\n",
       "  <thead>\n",
       "    <tr style=\"text-align: right;\">\n",
       "      <th></th>\n",
       "      <th>PassengerId</th>\n",
       "      <th>Survived</th>\n",
       "      <th>Pclass</th>\n",
       "      <th>Name</th>\n",
       "      <th>Sex</th>\n",
       "      <th>Age</th>\n",
       "      <th>SibSp</th>\n",
       "      <th>Parch</th>\n",
       "      <th>Ticket</th>\n",
       "      <th>Fare</th>\n",
       "      <th>Embarked</th>\n",
       "      <th>dataset</th>\n",
       "      <th>is_standard_prefix</th>\n",
       "      <th>not_standard_prefix</th>\n",
       "    </tr>\n",
       "  </thead>\n",
       "  <tbody>\n",
       "    <tr>\n",
       "      <th>891</th>\n",
       "      <td>892</td>\n",
       "      <td>NaN</td>\n",
       "      <td>3</td>\n",
       "      <td>Kelly, Mr. James</td>\n",
       "      <td>male</td>\n",
       "      <td>34.5</td>\n",
       "      <td>0</td>\n",
       "      <td>0</td>\n",
       "      <td>330911</td>\n",
       "      <td>7.8292</td>\n",
       "      <td>Q</td>\n",
       "      <td>test</td>\n",
       "      <td>1</td>\n",
       "      <td>0</td>\n",
       "    </tr>\n",
       "    <tr>\n",
       "      <th>892</th>\n",
       "      <td>893</td>\n",
       "      <td>NaN</td>\n",
       "      <td>3</td>\n",
       "      <td>Wilkes, Mrs. James (Ellen Needs)</td>\n",
       "      <td>female</td>\n",
       "      <td>47.0</td>\n",
       "      <td>1</td>\n",
       "      <td>0</td>\n",
       "      <td>363272</td>\n",
       "      <td>7.0000</td>\n",
       "      <td>S</td>\n",
       "      <td>test</td>\n",
       "      <td>1</td>\n",
       "      <td>0</td>\n",
       "    </tr>\n",
       "    <tr>\n",
       "      <th>893</th>\n",
       "      <td>894</td>\n",
       "      <td>NaN</td>\n",
       "      <td>2</td>\n",
       "      <td>Myles, Mr. Thomas Francis</td>\n",
       "      <td>male</td>\n",
       "      <td>62.0</td>\n",
       "      <td>0</td>\n",
       "      <td>0</td>\n",
       "      <td>240276</td>\n",
       "      <td>9.6875</td>\n",
       "      <td>Q</td>\n",
       "      <td>test</td>\n",
       "      <td>1</td>\n",
       "      <td>0</td>\n",
       "    </tr>\n",
       "    <tr>\n",
       "      <th>894</th>\n",
       "      <td>895</td>\n",
       "      <td>NaN</td>\n",
       "      <td>3</td>\n",
       "      <td>Wirz, Mr. Albert</td>\n",
       "      <td>male</td>\n",
       "      <td>27.0</td>\n",
       "      <td>0</td>\n",
       "      <td>0</td>\n",
       "      <td>315154</td>\n",
       "      <td>8.6625</td>\n",
       "      <td>S</td>\n",
       "      <td>test</td>\n",
       "      <td>1</td>\n",
       "      <td>0</td>\n",
       "    </tr>\n",
       "    <tr>\n",
       "      <th>895</th>\n",
       "      <td>896</td>\n",
       "      <td>NaN</td>\n",
       "      <td>3</td>\n",
       "      <td>Hirvonen, Mrs. Alexander (Helga E Lindqvist)</td>\n",
       "      <td>female</td>\n",
       "      <td>22.0</td>\n",
       "      <td>1</td>\n",
       "      <td>1</td>\n",
       "      <td>3101298</td>\n",
       "      <td>12.2875</td>\n",
       "      <td>S</td>\n",
       "      <td>test</td>\n",
       "      <td>1</td>\n",
       "      <td>0</td>\n",
       "    </tr>\n",
       "  </tbody>\n",
       "</table>\n",
       "</div>"
      ],
      "text/plain": [
       "     PassengerId  Survived  Pclass  \\\n",
       "891          892       NaN       3   \n",
       "892          893       NaN       3   \n",
       "893          894       NaN       2   \n",
       "894          895       NaN       3   \n",
       "895          896       NaN       3   \n",
       "\n",
       "                                             Name     Sex   Age  SibSp  Parch  \\\n",
       "891                              Kelly, Mr. James    male  34.5      0      0   \n",
       "892              Wilkes, Mrs. James (Ellen Needs)  female  47.0      1      0   \n",
       "893                     Myles, Mr. Thomas Francis    male  62.0      0      0   \n",
       "894                              Wirz, Mr. Albert    male  27.0      0      0   \n",
       "895  Hirvonen, Mrs. Alexander (Helga E Lindqvist)  female  22.0      1      1   \n",
       "\n",
       "      Ticket     Fare Embarked dataset  is_standard_prefix  \\\n",
       "891   330911   7.8292        Q    test                   1   \n",
       "892   363272   7.0000        S    test                   1   \n",
       "893   240276   9.6875        Q    test                   1   \n",
       "894   315154   8.6625        S    test                   1   \n",
       "895  3101298  12.2875        S    test                   1   \n",
       "\n",
       "     not_standard_prefix  \n",
       "891                    0  \n",
       "892                    0  \n",
       "893                    0  \n",
       "894                    0  \n",
       "895                    0  "
      ]
     },
     "execution_count": 54,
     "metadata": {},
     "output_type": "execute_result"
    }
   ],
   "source": [
    "X_train.head()"
   ]
  },
  {
   "cell_type": "code",
   "execution_count": 81,
   "id": "19af8cc9-7642-4ead-ae7a-715522738a57",
   "metadata": {
    "canvas": {
     "comments": [],
     "componentType": "CodeCell",
     "copiedOriginId": null,
     "diskcache": false,
     "headerColor": "transparent",
     "id": "47fcf919-c438-4402-9b40-f9fb7657ffcc",
     "isComponent": false,
     "name": "",
     "parents": []
    }
   },
   "outputs": [
    {
     "data": {
      "text/plain": [
       "['Survived', 'is_standard_prefix', 'not_standard_prefix']"
      ]
     },
     "execution_count": 81,
     "metadata": {},
     "output_type": "execute_result"
    }
   ],
   "source": [
    "X_train = X_train.drop(columns=['Name'])\n",
    "cols_to_not_normalize = cols_to_not_normalize + ['is_standard_prefix','not_standard_prefix']"
   ]
  },
  {
   "cell_type": "markdown",
   "id": "d753fa61-3975-4d5e-9709-78bc09578965",
   "metadata": {
    "canvas": {
     "comments": [],
     "componentType": "CodeCell",
     "copiedOriginId": null,
     "diskcache": false,
     "headerColor": "transparent",
     "id": "faca71a1-a1a0-48d8-8d4c-599efb5da86a",
     "isComponent": false,
     "name": "",
     "parents": []
    }
   },
   "source": [
    "#### 2.4.B.B - Turning prefix into new features (Schema 2), OHE"
   ]
  },
  {
   "cell_type": "markdown",
   "id": "0a0c7e21-4c23-43c3-8864-ed09bdf2086f",
   "metadata": {
    "canvas": {
     "comments": [],
     "componentType": "CodeCell",
     "copiedOriginId": null,
     "diskcache": false,
     "headerColor": "transparent",
     "id": "d006642e-7c1d-4633-be36-ab202bc3db0c",
     "isComponent": false,
     "name": "",
     "parents": []
    }
   },
   "source": [
    "As an alternative, let's turn the prefix column into one-hot encoded columns--one for each unique prefix."
   ]
  },
  {
   "cell_type": "code",
   "execution_count": 20,
   "id": "1b5190e3-2091-4f7b-ae0e-d5f9f312166c",
   "metadata": {
    "canvas": {
     "comments": [],
     "componentType": "CodeCell",
     "copiedOriginId": null,
     "diskcache": false,
     "headerColor": "transparent",
     "id": "32097f48-e11c-49f7-a7fd-8f3ab091d281",
     "isComponent": false,
     "name": "",
     "parents": []
    }
   },
   "outputs": [
    {
     "data": {
      "text/plain": [
       "(1307, 12)"
      ]
     },
     "execution_count": 20,
     "metadata": {},
     "output_type": "execute_result"
    }
   ],
   "source": [
    "X_train.shape"
   ]
  },
  {
   "cell_type": "code",
   "execution_count": 21,
   "id": "922ee5e9-56b9-4e7b-8ff0-3e4ec5d93f4a",
   "metadata": {
    "canvas": {
     "comments": [],
     "componentType": "CodeCell",
     "copiedOriginId": null,
     "diskcache": false,
     "headerColor": "transparent",
     "id": "291d2c00-d4e7-4e37-9ee5-4304df065f14",
     "isComponent": false,
     "name": "",
     "parents": []
    }
   },
   "outputs": [
    {
     "data": {
      "text/plain": [
       "(1307, 18)"
      ]
     },
     "metadata": {},
     "output_type": "display_data"
    },
    {
     "data": {
      "text/plain": [
       "[array(['Capt', 'Col', 'Don', 'Dona', 'Dr', 'Jonkheer', 'Lady', 'Major',\n",
       "        'Master', 'Miss', 'Mlle', 'Mme', 'Mr', 'Mrs', 'Ms', 'Rev', 'Sir',\n",
       "        'the Countess'], dtype=object)]"
      ]
     },
     "metadata": {},
     "output_type": "display_data"
    }
   ],
   "source": [
    "oh_enc = OneHotEncoder()\n",
    "prefix_encoded = oh_enc.fit_transform(prefix)\n",
    "display(prefix_encoded.shape)\n",
    "display(oh_enc.categories_)"
   ]
  },
  {
   "cell_type": "markdown",
   "id": "55cd36a8-1328-4d7d-9cd0-1677551a0c06",
   "metadata": {
    "canvas": {
     "comments": [],
     "componentType": "CodeCell",
     "copiedOriginId": null,
     "diskcache": false,
     "headerColor": "transparent",
     "id": "9b9643d3-db14-47af-881d-fb746715d56e",
     "isComponent": false,
     "name": "",
     "parents": []
    }
   },
   "source": [
    "Now we insert these into X_train"
   ]
  },
  {
   "cell_type": "code",
   "execution_count": 22,
   "id": "dbe58d2f-ed4a-4ade-bd6a-e580aaf5c730",
   "metadata": {
    "canvas": {
     "comments": [],
     "componentType": "CodeCell",
     "copiedOriginId": null,
     "diskcache": false,
     "headerColor": "transparent",
     "id": "12b01b22-291c-484a-aee4-06718e760383",
     "isComponent": false,
     "name": "",
     "parents": []
    }
   },
   "outputs": [
    {
     "data": {
      "text/html": [
       "<div>\n",
       "<style scoped>\n",
       "    .dataframe tbody tr th:only-of-type {\n",
       "        vertical-align: middle;\n",
       "    }\n",
       "\n",
       "    .dataframe tbody tr th {\n",
       "        vertical-align: top;\n",
       "    }\n",
       "\n",
       "    .dataframe thead th {\n",
       "        text-align: right;\n",
       "    }\n",
       "</style>\n",
       "<table border=\"1\" class=\"dataframe\">\n",
       "  <thead>\n",
       "    <tr style=\"text-align: right;\">\n",
       "      <th></th>\n",
       "      <th>prefix Capt</th>\n",
       "      <th>prefix Col</th>\n",
       "      <th>prefix Don</th>\n",
       "      <th>prefix Dona</th>\n",
       "      <th>prefix Dr</th>\n",
       "      <th>prefix Jonkheer</th>\n",
       "      <th>prefix Lady</th>\n",
       "      <th>prefix Major</th>\n",
       "      <th>prefix Master</th>\n",
       "      <th>prefix Miss</th>\n",
       "      <th>prefix Mlle</th>\n",
       "      <th>prefix Mme</th>\n",
       "      <th>prefix Mr</th>\n",
       "      <th>prefix Mrs</th>\n",
       "      <th>prefix Ms</th>\n",
       "      <th>prefix Rev</th>\n",
       "      <th>prefix Sir</th>\n",
       "      <th>prefix the Countess</th>\n",
       "    </tr>\n",
       "  </thead>\n",
       "  <tbody>\n",
       "    <tr>\n",
       "      <th>891</th>\n",
       "      <td>0.0</td>\n",
       "      <td>0.0</td>\n",
       "      <td>0.0</td>\n",
       "      <td>0.0</td>\n",
       "      <td>0.0</td>\n",
       "      <td>0.0</td>\n",
       "      <td>0.0</td>\n",
       "      <td>0.0</td>\n",
       "      <td>0.0</td>\n",
       "      <td>0.0</td>\n",
       "      <td>0.0</td>\n",
       "      <td>0.0</td>\n",
       "      <td>1.0</td>\n",
       "      <td>0.0</td>\n",
       "      <td>0.0</td>\n",
       "      <td>0.0</td>\n",
       "      <td>0.0</td>\n",
       "      <td>0.0</td>\n",
       "    </tr>\n",
       "    <tr>\n",
       "      <th>892</th>\n",
       "      <td>0.0</td>\n",
       "      <td>0.0</td>\n",
       "      <td>0.0</td>\n",
       "      <td>0.0</td>\n",
       "      <td>0.0</td>\n",
       "      <td>0.0</td>\n",
       "      <td>0.0</td>\n",
       "      <td>0.0</td>\n",
       "      <td>0.0</td>\n",
       "      <td>0.0</td>\n",
       "      <td>0.0</td>\n",
       "      <td>0.0</td>\n",
       "      <td>0.0</td>\n",
       "      <td>1.0</td>\n",
       "      <td>0.0</td>\n",
       "      <td>0.0</td>\n",
       "      <td>0.0</td>\n",
       "      <td>0.0</td>\n",
       "    </tr>\n",
       "    <tr>\n",
       "      <th>893</th>\n",
       "      <td>0.0</td>\n",
       "      <td>0.0</td>\n",
       "      <td>0.0</td>\n",
       "      <td>0.0</td>\n",
       "      <td>0.0</td>\n",
       "      <td>0.0</td>\n",
       "      <td>0.0</td>\n",
       "      <td>0.0</td>\n",
       "      <td>0.0</td>\n",
       "      <td>0.0</td>\n",
       "      <td>0.0</td>\n",
       "      <td>0.0</td>\n",
       "      <td>1.0</td>\n",
       "      <td>0.0</td>\n",
       "      <td>0.0</td>\n",
       "      <td>0.0</td>\n",
       "      <td>0.0</td>\n",
       "      <td>0.0</td>\n",
       "    </tr>\n",
       "    <tr>\n",
       "      <th>894</th>\n",
       "      <td>0.0</td>\n",
       "      <td>0.0</td>\n",
       "      <td>0.0</td>\n",
       "      <td>0.0</td>\n",
       "      <td>0.0</td>\n",
       "      <td>0.0</td>\n",
       "      <td>0.0</td>\n",
       "      <td>0.0</td>\n",
       "      <td>0.0</td>\n",
       "      <td>0.0</td>\n",
       "      <td>0.0</td>\n",
       "      <td>0.0</td>\n",
       "      <td>1.0</td>\n",
       "      <td>0.0</td>\n",
       "      <td>0.0</td>\n",
       "      <td>0.0</td>\n",
       "      <td>0.0</td>\n",
       "      <td>0.0</td>\n",
       "    </tr>\n",
       "    <tr>\n",
       "      <th>895</th>\n",
       "      <td>0.0</td>\n",
       "      <td>0.0</td>\n",
       "      <td>0.0</td>\n",
       "      <td>0.0</td>\n",
       "      <td>0.0</td>\n",
       "      <td>0.0</td>\n",
       "      <td>0.0</td>\n",
       "      <td>0.0</td>\n",
       "      <td>0.0</td>\n",
       "      <td>0.0</td>\n",
       "      <td>0.0</td>\n",
       "      <td>0.0</td>\n",
       "      <td>0.0</td>\n",
       "      <td>1.0</td>\n",
       "      <td>0.0</td>\n",
       "      <td>0.0</td>\n",
       "      <td>0.0</td>\n",
       "      <td>0.0</td>\n",
       "    </tr>\n",
       "    <tr>\n",
       "      <th>...</th>\n",
       "      <td>...</td>\n",
       "      <td>...</td>\n",
       "      <td>...</td>\n",
       "      <td>...</td>\n",
       "      <td>...</td>\n",
       "      <td>...</td>\n",
       "      <td>...</td>\n",
       "      <td>...</td>\n",
       "      <td>...</td>\n",
       "      <td>...</td>\n",
       "      <td>...</td>\n",
       "      <td>...</td>\n",
       "      <td>...</td>\n",
       "      <td>...</td>\n",
       "      <td>...</td>\n",
       "      <td>...</td>\n",
       "      <td>...</td>\n",
       "      <td>...</td>\n",
       "    </tr>\n",
       "    <tr>\n",
       "      <th>886</th>\n",
       "      <td>0.0</td>\n",
       "      <td>0.0</td>\n",
       "      <td>0.0</td>\n",
       "      <td>0.0</td>\n",
       "      <td>0.0</td>\n",
       "      <td>0.0</td>\n",
       "      <td>0.0</td>\n",
       "      <td>0.0</td>\n",
       "      <td>0.0</td>\n",
       "      <td>0.0</td>\n",
       "      <td>0.0</td>\n",
       "      <td>0.0</td>\n",
       "      <td>0.0</td>\n",
       "      <td>0.0</td>\n",
       "      <td>0.0</td>\n",
       "      <td>1.0</td>\n",
       "      <td>0.0</td>\n",
       "      <td>0.0</td>\n",
       "    </tr>\n",
       "    <tr>\n",
       "      <th>887</th>\n",
       "      <td>0.0</td>\n",
       "      <td>0.0</td>\n",
       "      <td>0.0</td>\n",
       "      <td>0.0</td>\n",
       "      <td>0.0</td>\n",
       "      <td>0.0</td>\n",
       "      <td>0.0</td>\n",
       "      <td>0.0</td>\n",
       "      <td>0.0</td>\n",
       "      <td>1.0</td>\n",
       "      <td>0.0</td>\n",
       "      <td>0.0</td>\n",
       "      <td>0.0</td>\n",
       "      <td>0.0</td>\n",
       "      <td>0.0</td>\n",
       "      <td>0.0</td>\n",
       "      <td>0.0</td>\n",
       "      <td>0.0</td>\n",
       "    </tr>\n",
       "    <tr>\n",
       "      <th>888</th>\n",
       "      <td>0.0</td>\n",
       "      <td>0.0</td>\n",
       "      <td>0.0</td>\n",
       "      <td>0.0</td>\n",
       "      <td>0.0</td>\n",
       "      <td>0.0</td>\n",
       "      <td>0.0</td>\n",
       "      <td>0.0</td>\n",
       "      <td>0.0</td>\n",
       "      <td>1.0</td>\n",
       "      <td>0.0</td>\n",
       "      <td>0.0</td>\n",
       "      <td>0.0</td>\n",
       "      <td>0.0</td>\n",
       "      <td>0.0</td>\n",
       "      <td>0.0</td>\n",
       "      <td>0.0</td>\n",
       "      <td>0.0</td>\n",
       "    </tr>\n",
       "    <tr>\n",
       "      <th>889</th>\n",
       "      <td>0.0</td>\n",
       "      <td>0.0</td>\n",
       "      <td>0.0</td>\n",
       "      <td>0.0</td>\n",
       "      <td>0.0</td>\n",
       "      <td>0.0</td>\n",
       "      <td>0.0</td>\n",
       "      <td>0.0</td>\n",
       "      <td>0.0</td>\n",
       "      <td>0.0</td>\n",
       "      <td>0.0</td>\n",
       "      <td>0.0</td>\n",
       "      <td>1.0</td>\n",
       "      <td>0.0</td>\n",
       "      <td>0.0</td>\n",
       "      <td>0.0</td>\n",
       "      <td>0.0</td>\n",
       "      <td>0.0</td>\n",
       "    </tr>\n",
       "    <tr>\n",
       "      <th>890</th>\n",
       "      <td>0.0</td>\n",
       "      <td>0.0</td>\n",
       "      <td>0.0</td>\n",
       "      <td>0.0</td>\n",
       "      <td>0.0</td>\n",
       "      <td>0.0</td>\n",
       "      <td>0.0</td>\n",
       "      <td>0.0</td>\n",
       "      <td>0.0</td>\n",
       "      <td>0.0</td>\n",
       "      <td>0.0</td>\n",
       "      <td>0.0</td>\n",
       "      <td>1.0</td>\n",
       "      <td>0.0</td>\n",
       "      <td>0.0</td>\n",
       "      <td>0.0</td>\n",
       "      <td>0.0</td>\n",
       "      <td>0.0</td>\n",
       "    </tr>\n",
       "  </tbody>\n",
       "</table>\n",
       "<p>1307 rows × 18 columns</p>\n",
       "</div>"
      ],
      "text/plain": [
       "     prefix Capt  prefix Col  prefix Don  prefix Dona  prefix Dr  \\\n",
       "891          0.0         0.0         0.0          0.0        0.0   \n",
       "892          0.0         0.0         0.0          0.0        0.0   \n",
       "893          0.0         0.0         0.0          0.0        0.0   \n",
       "894          0.0         0.0         0.0          0.0        0.0   \n",
       "895          0.0         0.0         0.0          0.0        0.0   \n",
       "..           ...         ...         ...          ...        ...   \n",
       "886          0.0         0.0         0.0          0.0        0.0   \n",
       "887          0.0         0.0         0.0          0.0        0.0   \n",
       "888          0.0         0.0         0.0          0.0        0.0   \n",
       "889          0.0         0.0         0.0          0.0        0.0   \n",
       "890          0.0         0.0         0.0          0.0        0.0   \n",
       "\n",
       "     prefix Jonkheer  prefix Lady  prefix Major  prefix Master  prefix Miss  \\\n",
       "891              0.0          0.0           0.0            0.0          0.0   \n",
       "892              0.0          0.0           0.0            0.0          0.0   \n",
       "893              0.0          0.0           0.0            0.0          0.0   \n",
       "894              0.0          0.0           0.0            0.0          0.0   \n",
       "895              0.0          0.0           0.0            0.0          0.0   \n",
       "..               ...          ...           ...            ...          ...   \n",
       "886              0.0          0.0           0.0            0.0          0.0   \n",
       "887              0.0          0.0           0.0            0.0          1.0   \n",
       "888              0.0          0.0           0.0            0.0          1.0   \n",
       "889              0.0          0.0           0.0            0.0          0.0   \n",
       "890              0.0          0.0           0.0            0.0          0.0   \n",
       "\n",
       "     prefix Mlle  prefix Mme  prefix Mr  prefix Mrs  prefix Ms  prefix Rev  \\\n",
       "891          0.0         0.0        1.0         0.0        0.0         0.0   \n",
       "892          0.0         0.0        0.0         1.0        0.0         0.0   \n",
       "893          0.0         0.0        1.0         0.0        0.0         0.0   \n",
       "894          0.0         0.0        1.0         0.0        0.0         0.0   \n",
       "895          0.0         0.0        0.0         1.0        0.0         0.0   \n",
       "..           ...         ...        ...         ...        ...         ...   \n",
       "886          0.0         0.0        0.0         0.0        0.0         1.0   \n",
       "887          0.0         0.0        0.0         0.0        0.0         0.0   \n",
       "888          0.0         0.0        0.0         0.0        0.0         0.0   \n",
       "889          0.0         0.0        1.0         0.0        0.0         0.0   \n",
       "890          0.0         0.0        1.0         0.0        0.0         0.0   \n",
       "\n",
       "     prefix Sir  prefix the Countess  \n",
       "891         0.0                  0.0  \n",
       "892         0.0                  0.0  \n",
       "893         0.0                  0.0  \n",
       "894         0.0                  0.0  \n",
       "895         0.0                  0.0  \n",
       "..          ...                  ...  \n",
       "886         0.0                  0.0  \n",
       "887         0.0                  0.0  \n",
       "888         0.0                  0.0  \n",
       "889         0.0                  0.0  \n",
       "890         0.0                  0.0  \n",
       "\n",
       "[1307 rows x 18 columns]"
      ]
     },
     "metadata": {},
     "output_type": "display_data"
    },
    {
     "data": {
      "text/plain": [
       "(1307, 30)"
      ]
     },
     "metadata": {},
     "output_type": "display_data"
    }
   ],
   "source": [
    "oh_enc_cols = pd.Series(oh_enc.categories_[0])\n",
    "oh_enc_cols = \"prefix \"+oh_enc_cols\n",
    "X_train[oh_enc_cols] = pd.DataFrame.sparse.from_spmatrix(prefix_encoded,X_train.index) # needed to convert sparse matrix to dense matrix\n",
    "display(X_train[oh_enc_cols])\n",
    "display(X_train.shape)\n",
    "\n",
    "X_train = X_train.drop(columns=['Name'])\n",
    "cols_to_not_normalize = cols_to_not_normalize + list(oh_enc_cols)"
   ]
  },
  {
   "cell_type": "markdown",
   "id": "4237fcfa-f2d8-4e7c-a6e5-81ea1eeb2e67",
   "metadata": {
    "canvas": {
     "comments": [],
     "componentType": "CodeCell",
     "copiedOriginId": null,
     "diskcache": false,
     "headerColor": "transparent",
     "id": "ad1275e2-b43d-400d-a143-4b1b07167706",
     "isComponent": false,
     "name": "",
     "parents": []
    }
   },
   "source": [
    "## 2.5 - Cleaning `Ticket`"
   ]
  },
  {
   "cell_type": "markdown",
   "id": "7bd3bff9-d9d3-4e0b-81b4-e2a24d151bf8",
   "metadata": {
    "canvas": {
     "comments": [],
     "componentType": "CodeCell",
     "copiedOriginId": null,
     "diskcache": false,
     "headerColor": "transparent",
     "id": "bc8b0973-5871-45f8-949d-328c8540520a",
     "isComponent": false,
     "name": "",
     "parents": []
    }
   },
   "source": [
    "We have a couple options for cleaning this column. As before, we could do one of two things:\n",
    "- Delete the column altogether\n",
    "- Try to extract some info (for example, common letters) from each entry\n",
    "\n",
    "We'll explore both approaches below."
   ]
  },
  {
   "cell_type": "markdown",
   "id": "24b79324-4024-4f3e-8be7-a5d94458fce2",
   "metadata": {
    "canvas": {
     "comments": [],
     "componentType": "CodeCell",
     "copiedOriginId": null,
     "diskcache": false,
     "headerColor": "transparent",
     "id": "f01aaf20-5529-4407-88bc-26419ca8a769",
     "isComponent": false,
     "name": "",
     "parents": []
    }
   },
   "source": [
    "### 2.5.A - Deleting the `Ticket` column altogether"
   ]
  },
  {
   "cell_type": "code",
   "execution_count": 23,
   "id": "8bd5c200-db0d-46be-b16d-a595cd4e8ad4",
   "metadata": {
    "canvas": {
     "comments": [],
     "componentType": "CodeCell",
     "copiedOriginId": null,
     "diskcache": false,
     "headerColor": "transparent",
     "id": "f781ac2f-0e0f-4a7a-a58a-fb34ea6a9fdb",
     "isComponent": false,
     "name": "",
     "parents": []
    }
   },
   "outputs": [],
   "source": [
    "X_train = X_train.drop(columns = ['Ticket'])"
   ]
  },
  {
   "cell_type": "markdown",
   "id": "8308a89e-14c9-4cde-92e6-6afc9c297581",
   "metadata": {
    "canvas": {
     "comments": [],
     "componentType": "CodeCell",
     "copiedOriginId": null,
     "diskcache": false,
     "headerColor": "transparent",
     "id": "6c0201ba-0b56-4d30-a6e2-f141b330d447",
     "isComponent": false,
     "name": "",
     "parents": []
    }
   },
   "source": [
    "### 2.5.B - Extracting info from the `Ticket` column"
   ]
  },
  {
   "cell_type": "code",
   "execution_count": 32,
   "id": "c293b221-da41-4069-8089-728a011e1da8",
   "metadata": {
    "canvas": {
     "comments": [],
     "componentType": "CodeCell",
     "copiedOriginId": null,
     "diskcache": false,
     "headerColor": "transparent",
     "id": "015df421-977f-4af2-aa7a-cfbef3adb52f",
     "isComponent": false,
     "name": "",
     "parents": []
    }
   },
   "outputs": [
    {
     "data": {
      "text/plain": [
       "26360                 3\n",
       "S.C./PARIS 2079       3\n",
       "PP 9549               3\n",
       "315153                3\n",
       "2653                  3\n",
       "PC 17569              3\n",
       "2661                  3\n",
       "367226                3\n",
       "2650                  3\n",
       "SOTON/O.Q. 3101315    3\n",
       "PC 17761              3\n",
       "11767                 3\n",
       "248727                3\n",
       "347080                3\n",
       "2668                  3\n",
       "363291                3\n",
       "F.C.C. 13529          3\n",
       "371110                3\n",
       "29106                 3\n",
       "35273                 3\n",
       "C.A. 31921            3\n",
       "230080                3\n",
       "345773                3\n",
       "2662                  3\n",
       "C.A. 37671            3\n",
       "C.A. 31029            3\n",
       "A/4 48871             3\n",
       "110152                3\n",
       "248738                3\n",
       "Name: Ticket, dtype: int64"
      ]
     },
     "execution_count": 32,
     "metadata": {},
     "output_type": "execute_result"
    }
   ],
   "source": [
    "# insert code here\n",
    "X_train['Ticket'].value_counts(dropna=False)[51:80]"
   ]
  },
  {
   "cell_type": "markdown",
   "id": "af9fe24b-edd0-4531-aeb1-f07a9a494b2f",
   "metadata": {
    "canvas": {
     "comments": [],
     "componentType": "CodeCell",
     "copiedOriginId": null,
     "diskcache": false,
     "headerColor": "transparent",
     "id": "795b86fc-2197-4bc6-95ed-b9c3cb892969",
     "isComponent": false,
     "name": "",
     "parents": []
    }
   },
   "source": [
    "Upon inspection, there are several unique values of `Ticket` in `X_train`. It's up to our discretion how to have these values be reflected in the training data. One possible way is to group `Ticket` into three categories:\n",
    "1. Contains numbers only\n",
    "2. Contains letters and numbers\n",
    "3. Contains letters only\n",
    "\n",
    "Let's see if we can create a new feature out of these groupings."
   ]
  },
  {
   "cell_type": "code",
   "execution_count": 56,
   "id": "311048cf-6174-438a-bde7-c10249f83b52",
   "metadata": {
    "canvas": {
     "comments": [],
     "componentType": "CodeCell",
     "copiedOriginId": null,
     "diskcache": false,
     "headerColor": "transparent",
     "id": "3873e24e-84eb-45e7-a926-7030cc38b6ff",
     "isComponent": false,
     "name": "",
     "parents": []
    }
   },
   "outputs": [
    {
     "data": {
      "text/plain": [
       "1    1307\n",
       "dtype: int64"
      ]
     },
     "metadata": {},
     "output_type": "display_data"
    },
    {
     "data": {
      "text/html": [
       "<div>\n",
       "<style scoped>\n",
       "    .dataframe tbody tr th:only-of-type {\n",
       "        vertical-align: middle;\n",
       "    }\n",
       "\n",
       "    .dataframe tbody tr th {\n",
       "        vertical-align: top;\n",
       "    }\n",
       "\n",
       "    .dataframe thead th {\n",
       "        text-align: right;\n",
       "    }\n",
       "</style>\n",
       "<table border=\"1\" class=\"dataframe\">\n",
       "  <thead>\n",
       "    <tr style=\"text-align: right;\">\n",
       "      <th></th>\n",
       "      <th>PassengerId</th>\n",
       "      <th>Survived</th>\n",
       "      <th>Pclass</th>\n",
       "      <th>Sex</th>\n",
       "      <th>Age</th>\n",
       "      <th>SibSp</th>\n",
       "      <th>Parch</th>\n",
       "      <th>Ticket</th>\n",
       "      <th>Fare</th>\n",
       "      <th>Embarked</th>\n",
       "      <th>...</th>\n",
       "      <th>prefix Mme</th>\n",
       "      <th>prefix Mr</th>\n",
       "      <th>prefix Mrs</th>\n",
       "      <th>prefix Ms</th>\n",
       "      <th>prefix Rev</th>\n",
       "      <th>prefix Sir</th>\n",
       "      <th>prefix the Countess</th>\n",
       "      <th>ticket_word_only</th>\n",
       "      <th>ticket_num_only</th>\n",
       "      <th>ticket_num_and_word</th>\n",
       "    </tr>\n",
       "  </thead>\n",
       "  <tbody>\n",
       "    <tr>\n",
       "      <th>891</th>\n",
       "      <td>892</td>\n",
       "      <td>NaN</td>\n",
       "      <td>3</td>\n",
       "      <td>male</td>\n",
       "      <td>34.5</td>\n",
       "      <td>0</td>\n",
       "      <td>0</td>\n",
       "      <td>330911</td>\n",
       "      <td>7.8292</td>\n",
       "      <td>Q</td>\n",
       "      <td>...</td>\n",
       "      <td>0.0</td>\n",
       "      <td>1.0</td>\n",
       "      <td>0.0</td>\n",
       "      <td>0.0</td>\n",
       "      <td>0.0</td>\n",
       "      <td>0.0</td>\n",
       "      <td>0.0</td>\n",
       "      <td>0</td>\n",
       "      <td>1</td>\n",
       "      <td>0</td>\n",
       "    </tr>\n",
       "    <tr>\n",
       "      <th>892</th>\n",
       "      <td>893</td>\n",
       "      <td>NaN</td>\n",
       "      <td>3</td>\n",
       "      <td>female</td>\n",
       "      <td>47.0</td>\n",
       "      <td>1</td>\n",
       "      <td>0</td>\n",
       "      <td>363272</td>\n",
       "      <td>7.0000</td>\n",
       "      <td>S</td>\n",
       "      <td>...</td>\n",
       "      <td>0.0</td>\n",
       "      <td>0.0</td>\n",
       "      <td>1.0</td>\n",
       "      <td>0.0</td>\n",
       "      <td>0.0</td>\n",
       "      <td>0.0</td>\n",
       "      <td>0.0</td>\n",
       "      <td>0</td>\n",
       "      <td>1</td>\n",
       "      <td>0</td>\n",
       "    </tr>\n",
       "    <tr>\n",
       "      <th>893</th>\n",
       "      <td>894</td>\n",
       "      <td>NaN</td>\n",
       "      <td>2</td>\n",
       "      <td>male</td>\n",
       "      <td>62.0</td>\n",
       "      <td>0</td>\n",
       "      <td>0</td>\n",
       "      <td>240276</td>\n",
       "      <td>9.6875</td>\n",
       "      <td>Q</td>\n",
       "      <td>...</td>\n",
       "      <td>0.0</td>\n",
       "      <td>1.0</td>\n",
       "      <td>0.0</td>\n",
       "      <td>0.0</td>\n",
       "      <td>0.0</td>\n",
       "      <td>0.0</td>\n",
       "      <td>0.0</td>\n",
       "      <td>0</td>\n",
       "      <td>1</td>\n",
       "      <td>0</td>\n",
       "    </tr>\n",
       "    <tr>\n",
       "      <th>894</th>\n",
       "      <td>895</td>\n",
       "      <td>NaN</td>\n",
       "      <td>3</td>\n",
       "      <td>male</td>\n",
       "      <td>27.0</td>\n",
       "      <td>0</td>\n",
       "      <td>0</td>\n",
       "      <td>315154</td>\n",
       "      <td>8.6625</td>\n",
       "      <td>S</td>\n",
       "      <td>...</td>\n",
       "      <td>0.0</td>\n",
       "      <td>1.0</td>\n",
       "      <td>0.0</td>\n",
       "      <td>0.0</td>\n",
       "      <td>0.0</td>\n",
       "      <td>0.0</td>\n",
       "      <td>0.0</td>\n",
       "      <td>0</td>\n",
       "      <td>1</td>\n",
       "      <td>0</td>\n",
       "    </tr>\n",
       "    <tr>\n",
       "      <th>895</th>\n",
       "      <td>896</td>\n",
       "      <td>NaN</td>\n",
       "      <td>3</td>\n",
       "      <td>female</td>\n",
       "      <td>22.0</td>\n",
       "      <td>1</td>\n",
       "      <td>1</td>\n",
       "      <td>3101298</td>\n",
       "      <td>12.2875</td>\n",
       "      <td>S</td>\n",
       "      <td>...</td>\n",
       "      <td>0.0</td>\n",
       "      <td>0.0</td>\n",
       "      <td>1.0</td>\n",
       "      <td>0.0</td>\n",
       "      <td>0.0</td>\n",
       "      <td>0.0</td>\n",
       "      <td>0.0</td>\n",
       "      <td>0</td>\n",
       "      <td>1</td>\n",
       "      <td>0</td>\n",
       "    </tr>\n",
       "  </tbody>\n",
       "</table>\n",
       "<p>5 rows × 32 columns</p>\n",
       "</div>"
      ],
      "text/plain": [
       "     PassengerId  Survived  Pclass     Sex   Age  SibSp  Parch   Ticket  \\\n",
       "891          892       NaN       3    male  34.5      0      0   330911   \n",
       "892          893       NaN       3  female  47.0      1      0   363272   \n",
       "893          894       NaN       2    male  62.0      0      0   240276   \n",
       "894          895       NaN       3    male  27.0      0      0   315154   \n",
       "895          896       NaN       3  female  22.0      1      1  3101298   \n",
       "\n",
       "        Fare Embarked  ... prefix Mme  prefix Mr  prefix Mrs  prefix Ms  \\\n",
       "891   7.8292        Q  ...        0.0        1.0         0.0        0.0   \n",
       "892   7.0000        S  ...        0.0        0.0         1.0        0.0   \n",
       "893   9.6875        Q  ...        0.0        1.0         0.0        0.0   \n",
       "894   8.6625        S  ...        0.0        1.0         0.0        0.0   \n",
       "895  12.2875        S  ...        0.0        0.0         1.0        0.0   \n",
       "\n",
       "     prefix Rev  prefix Sir  prefix the Countess  ticket_word_only  \\\n",
       "891         0.0         0.0                  0.0                 0   \n",
       "892         0.0         0.0                  0.0                 0   \n",
       "893         0.0         0.0                  0.0                 0   \n",
       "894         0.0         0.0                  0.0                 0   \n",
       "895         0.0         0.0                  0.0                 0   \n",
       "\n",
       "     ticket_num_only  ticket_num_and_word  \n",
       "891                1                    0  \n",
       "892                1                    0  \n",
       "893                1                    0  \n",
       "894                1                    0  \n",
       "895                1                    0  \n",
       "\n",
       "[5 rows x 32 columns]"
      ]
     },
     "execution_count": 56,
     "metadata": {},
     "output_type": "execute_result"
    }
   ],
   "source": [
    "ptr_word_only = r\"^[^\\d\\s]+$\" # matches word only\n",
    "ptr_num_only = r\"^[\\d]+$\" # matches numbers only\n",
    "X_train['ticket_word_only'] = X_train['Ticket'].str.contains(ptr_word_only, regex=True)\n",
    "X_train['ticket_num_only'] = X_train['Ticket'].str.contains(ptr_num_only, regex=True)\n",
    "X_train['ticket_num_and_word'] = (~X_train['ticket_word_only']) & (~X_train['ticket_num_only'])\n",
    "display(X_train[['ticket_word_only','ticket_num_only','ticket_num_and_word']].sum(axis=1).value_counts()) # just to confirm\n",
    "X_train[['ticket_word_only','ticket_num_only','ticket_num_and_word']] = X_train[['ticket_word_only','ticket_num_only','ticket_num_and_word']].astype(int)\n",
    "X_train.head()"
   ]
  },
  {
   "cell_type": "markdown",
   "id": "60c6224d-ca56-4669-b209-8f99255d4a4b",
   "metadata": {
    "canvas": {
     "comments": [],
     "componentType": "CodeCell",
     "copiedOriginId": null,
     "diskcache": false,
     "headerColor": "transparent",
     "id": "389d49ed-26e9-40d6-871f-09ef65023a69",
     "isComponent": false,
     "name": "",
     "parents": []
    }
   },
   "source": [
    "OK looks like we successfully created new feature columns. Now we'll remove the ticket column."
   ]
  },
  {
   "cell_type": "code",
   "execution_count": 60,
   "id": "7276e925-0554-4103-bc87-061ee95d88a3",
   "metadata": {
    "canvas": {
     "comments": [],
     "componentType": "CodeCell",
     "copiedOriginId": null,
     "diskcache": false,
     "headerColor": "transparent",
     "id": "d7de4162-9b55-4a26-b226-a2e01fd0e15a",
     "isComponent": false,
     "name": "",
     "parents": []
    }
   },
   "outputs": [],
   "source": [
    "# X_train = X_train.drop(columns = ['Ticket'])\n",
    "cols_to_not_normalize = cols_to_not_normalize + ['ticket_word_only','ticket_num_only','ticket_num_and_word']"
   ]
  },
  {
   "cell_type": "markdown",
   "id": "c6f3edb9-9782-4b56-af04-67a650e05084",
   "metadata": {
    "canvas": {
     "comments": [],
     "componentType": "CodeCell",
     "copiedOriginId": null,
     "diskcache": false,
     "headerColor": "transparent",
     "id": "9b767731-4132-46d4-8b9d-f99fa2924b04",
     "isComponent": false,
     "name": "",
     "parents": []
    }
   },
   "source": [
    "## 2.6 - Cleaning `Fare`"
   ]
  },
  {
   "cell_type": "markdown",
   "id": "64a5193e-5510-4402-808e-503b9db0b0d0",
   "metadata": {
    "canvas": {
     "comments": [],
     "componentType": "CodeCell",
     "copiedOriginId": null,
     "diskcache": false,
     "headerColor": "transparent",
     "id": "b2794259-94a6-41e1-9172-b183fdfa2377",
     "isComponent": false,
     "name": "",
     "parents": []
    }
   },
   "source": [
    "The Fare column is missing only one value. We have a couple of options to clean this column:\n",
    "- Impute the missing value with the average of the column\n",
    "- Use some fancy data analysis to deduce what the right value to impute is\n",
    "- Use another ML model to populate this missing value.\n",
    "\n",
    "Unfortunately we can't just delete this row since it's part of the `test` dataset."
   ]
  },
  {
   "cell_type": "markdown",
   "id": "0df64298-1484-4b40-b932-b90f2619878a",
   "metadata": {
    "canvas": {
     "comments": [],
     "componentType": "CodeCell",
     "copiedOriginId": null,
     "diskcache": false,
     "headerColor": "transparent",
     "id": "cd64c0ae-ee2e-46f1-97ba-ba76fd179428",
     "isComponent": false,
     "name": "",
     "parents": []
    }
   },
   "source": [
    "### 2.6.A - Imputing missing `Fare` values with the average"
   ]
  },
  {
   "cell_type": "code",
   "execution_count": 58,
   "id": "f5204b10-7dcd-466a-a7f7-cd7682030a04",
   "metadata": {
    "canvas": {
     "comments": [],
     "componentType": "CodeCell",
     "copiedOriginId": null,
     "diskcache": false,
     "headerColor": "transparent",
     "id": "ed8a219c-d1f0-41bd-9ab3-b0e7429c6781",
     "isComponent": false,
     "name": "",
     "parents": []
    }
   },
   "outputs": [],
   "source": [
    "mean_fare = X_train.loc[X_train['dataset']=='train','Fare'].mean()\n",
    "X_train.loc[X_train['Fare'].isnull(),'Fare'] = mean_fare"
   ]
  },
  {
   "cell_type": "markdown",
   "id": "57257f3b-6f98-4335-8e1d-6f2fdad41713",
   "metadata": {
    "canvas": {
     "comments": [],
     "componentType": "CodeCell",
     "copiedOriginId": null,
     "diskcache": false,
     "headerColor": "transparent",
     "id": "181f0ab3-6f08-4792-85cd-e6c9e6bedba1",
     "isComponent": false,
     "name": "",
     "parents": []
    }
   },
   "source": [
    "## 2.7 - Cleaning `PassengerId`"
   ]
  },
  {
   "cell_type": "markdown",
   "id": "15afd336-3431-42a9-845f-9f8886d820ad",
   "metadata": {
    "canvas": {
     "comments": [],
     "componentType": "CodeCell",
     "copiedOriginId": null,
     "diskcache": false,
     "headerColor": "transparent",
     "id": "9c4a2645-b2a7-499d-a333-a3f6e915e57a",
     "isComponent": false,
     "name": "",
     "parents": []
    }
   },
   "source": [
    "The PassengerId column is likely just a unique identifier for each passenger, with no correlation to survival. There are two ways we can clean this column. We could either get rid of it altogether or keep it and normalize it (its values are much greater than values in other columns). We'll explore both options."
   ]
  },
  {
   "cell_type": "markdown",
   "id": "43c1d80a-2316-4c34-9284-df540e27efee",
   "metadata": {
    "canvas": {
     "comments": [],
     "componentType": "CodeCell",
     "copiedOriginId": null,
     "diskcache": false,
     "headerColor": "transparent",
     "id": "45c4ffbb-84e6-4352-a6dc-6e232f0874ba",
     "isComponent": false,
     "name": "",
     "parents": []
    }
   },
   "source": [
    "### 2.7.A - Deleting the `PassengerId` column"
   ]
  },
  {
   "cell_type": "code",
   "execution_count": 59,
   "id": "15a254c7-5c88-4367-9a21-f9b2fd37744c",
   "metadata": {
    "canvas": {
     "comments": [],
     "componentType": "CodeCell",
     "copiedOriginId": null,
     "diskcache": false,
     "headerColor": "transparent",
     "id": "87f19ee9-6795-4846-90ef-1d47f0a53bc3",
     "isComponent": false,
     "name": "",
     "parents": []
    }
   },
   "outputs": [],
   "source": [
    "pass_id = X_train['PassengerId']\n",
    "X_train = X_train.drop(columns = ['PassengerId'])"
   ]
  },
  {
   "cell_type": "markdown",
   "id": "cdb69735-6083-4f6f-86fc-0d7505f5b085",
   "metadata": {
    "canvas": {
     "comments": [],
     "componentType": "CodeCell",
     "copiedOriginId": null,
     "diskcache": false,
     "headerColor": "transparent",
     "id": "63c2ccc6-0662-47a6-ae63-9a127805ea3b",
     "isComponent": false,
     "name": "",
     "parents": []
    }
   },
   "source": [
    "### 2.7.B - Keeping and normalizing `PassengerId`"
   ]
  },
  {
   "cell_type": "code",
   "execution_count": 27,
   "id": "15640add-b0dd-4899-868c-cfc85007be52",
   "metadata": {
    "canvas": {
     "comments": [],
     "componentType": "CodeCell",
     "copiedOriginId": null,
     "diskcache": false,
     "headerColor": "transparent",
     "id": "6530df1c-fcc9-4d46-82ca-0ebc9f12d5be",
     "isComponent": false,
     "name": "",
     "parents": []
    }
   },
   "outputs": [],
   "source": [
    "# insert code here"
   ]
  },
  {
   "cell_type": "markdown",
   "id": "1d754d08-7a08-46e8-90d7-55842cbcfd62",
   "metadata": {
    "canvas": {
     "comments": [],
     "componentType": "CodeCell",
     "copiedOriginId": null,
     "diskcache": false,
     "headerColor": "transparent",
     "id": "6cb90b42-5e97-4922-8978-6663449d6efa",
     "isComponent": false,
     "name": "",
     "parents": []
    }
   },
   "source": [
    "## 2.8 - Encoding Categorical Features"
   ]
  },
  {
   "cell_type": "markdown",
   "id": "18fc84af-f600-4428-a552-81a98ccf5d11",
   "metadata": {
    "canvas": {
     "comments": [],
     "componentType": "CodeCell",
     "copiedOriginId": null,
     "diskcache": false,
     "headerColor": "transparent",
     "id": "6551b5df-f874-41ba-9527-6f9cce0190c8",
     "isComponent": false,
     "name": "",
     "parents": []
    }
   },
   "source": [
    "Since the ML models we're using only work with numerical data, we'll need to convert any data of dtype `object` to something numerical. Let's take a look at the columns of dtype `object`"
   ]
  },
  {
   "cell_type": "code",
   "execution_count": 26,
   "id": "661b4147-0429-475a-90f7-c4ba98fd95b7",
   "metadata": {
    "canvas": {
     "comments": [],
     "componentType": "CodeCell",
     "copiedOriginId": null,
     "diskcache": false,
     "headerColor": "transparent",
     "id": "078bf3e5-634f-42f2-af66-3ab4b65bafd1",
     "isComponent": false,
     "name": "",
     "parents": []
    }
   },
   "outputs": [
    {
     "data": {
      "text/plain": [
       "['Sex', 'Embarked', 'dataset']"
      ]
     },
     "execution_count": 26,
     "metadata": {},
     "output_type": "execute_result"
    }
   ],
   "source": [
    "X_train.columns[X_train.dtypes == 'object'].tolist()"
   ]
  },
  {
   "cell_type": "markdown",
   "id": "0109429d-257d-4e7e-ab71-ac5dcb60830d",
   "metadata": {
    "canvas": {
     "comments": [],
     "componentType": "CodeCell",
     "copiedOriginId": null,
     "diskcache": false,
     "headerColor": "transparent",
     "id": "05320100-cc3d-405a-b860-a61120fa6448",
     "isComponent": false,
     "name": "",
     "parents": []
    }
   },
   "source": [
    "We know that the `dataset` column is of our own making, so we won't encode it. We have a couple encoding options for this dataset, namely Ordinal Encoding and One Hot encoding. We'll explore both below."
   ]
  },
  {
   "cell_type": "markdown",
   "id": "5ad011ec-7047-4447-8214-2c6e2114e657",
   "metadata": {
    "canvas": {
     "comments": [],
     "componentType": "CodeCell",
     "copiedOriginId": null,
     "diskcache": false,
     "headerColor": "transparent",
     "id": "5005c100-56af-4ee6-8e3b-ad478e77fea5",
     "isComponent": false,
     "name": "",
     "parents": []
    }
   },
   "source": [
    "### 2.8.A - Ordinal Encoding"
   ]
  },
  {
   "cell_type": "markdown",
   "id": "96f34bfc-46a8-49c8-bfe3-f653a2d268e7",
   "metadata": {
    "canvas": {
     "comments": [],
     "componentType": "CodeCell",
     "copiedOriginId": null,
     "diskcache": false,
     "headerColor": "transparent",
     "id": "a5e35fa9-cb4f-4a6a-985d-023bb0193753",
     "isComponent": false,
     "name": "",
     "parents": []
    }
   },
   "source": [
    "Ordinal encoding is generally used for features whose values are \"rankable\" so to speak. For example for an education feature whose values are `[Bachelors, Masters, PhD]`, the values are rankable because a PhD is more educated than a Masters, who is in turn more educated than a Bachelors degree holder.\n",
    "\n",
    "Since the columns we plan on encoding aren't rankable, I suspect using an Ordinal encoder isn't the right approach. Nevertheless, we'll do it for exploratory sakes."
   ]
  },
  {
   "cell_type": "code",
   "execution_count": 30,
   "id": "58613e35-0b54-4634-8122-b0f000c10de5",
   "metadata": {
    "canvas": {
     "comments": [],
     "componentType": "CodeCell",
     "copiedOriginId": null,
     "diskcache": false,
     "headerColor": "transparent",
     "id": "3028bd6e-6fbf-4ac6-af59-06b5d48935ac",
     "isComponent": false,
     "name": "",
     "parents": []
    }
   },
   "outputs": [
    {
     "data": {
      "text/html": [
       "<div>\n",
       "<style scoped>\n",
       "    .dataframe tbody tr th:only-of-type {\n",
       "        vertical-align: middle;\n",
       "    }\n",
       "\n",
       "    .dataframe tbody tr th {\n",
       "        vertical-align: top;\n",
       "    }\n",
       "\n",
       "    .dataframe thead th {\n",
       "        text-align: right;\n",
       "    }\n",
       "</style>\n",
       "<table border=\"1\" class=\"dataframe\">\n",
       "  <thead>\n",
       "    <tr style=\"text-align: right;\">\n",
       "      <th></th>\n",
       "      <th>Survived</th>\n",
       "      <th>Pclass</th>\n",
       "      <th>Sex</th>\n",
       "      <th>Age</th>\n",
       "      <th>SibSp</th>\n",
       "      <th>Parch</th>\n",
       "      <th>Fare</th>\n",
       "      <th>Embarked</th>\n",
       "      <th>dataset</th>\n",
       "      <th>prefix Capt</th>\n",
       "      <th>...</th>\n",
       "      <th>prefix Master</th>\n",
       "      <th>prefix Miss</th>\n",
       "      <th>prefix Mlle</th>\n",
       "      <th>prefix Mme</th>\n",
       "      <th>prefix Mr</th>\n",
       "      <th>prefix Mrs</th>\n",
       "      <th>prefix Ms</th>\n",
       "      <th>prefix Rev</th>\n",
       "      <th>prefix Sir</th>\n",
       "      <th>prefix the Countess</th>\n",
       "    </tr>\n",
       "  </thead>\n",
       "  <tbody>\n",
       "    <tr>\n",
       "      <th>891</th>\n",
       "      <td>NaN</td>\n",
       "      <td>3</td>\n",
       "      <td>1.0</td>\n",
       "      <td>34.5</td>\n",
       "      <td>0</td>\n",
       "      <td>0</td>\n",
       "      <td>7.8292</td>\n",
       "      <td>1.0</td>\n",
       "      <td>test</td>\n",
       "      <td>0.0</td>\n",
       "      <td>...</td>\n",
       "      <td>0.0</td>\n",
       "      <td>0.0</td>\n",
       "      <td>0.0</td>\n",
       "      <td>0.0</td>\n",
       "      <td>1.0</td>\n",
       "      <td>0.0</td>\n",
       "      <td>0.0</td>\n",
       "      <td>0.0</td>\n",
       "      <td>0.0</td>\n",
       "      <td>0.0</td>\n",
       "    </tr>\n",
       "    <tr>\n",
       "      <th>892</th>\n",
       "      <td>NaN</td>\n",
       "      <td>3</td>\n",
       "      <td>0.0</td>\n",
       "      <td>47.0</td>\n",
       "      <td>1</td>\n",
       "      <td>0</td>\n",
       "      <td>7.0000</td>\n",
       "      <td>2.0</td>\n",
       "      <td>test</td>\n",
       "      <td>0.0</td>\n",
       "      <td>...</td>\n",
       "      <td>0.0</td>\n",
       "      <td>0.0</td>\n",
       "      <td>0.0</td>\n",
       "      <td>0.0</td>\n",
       "      <td>0.0</td>\n",
       "      <td>1.0</td>\n",
       "      <td>0.0</td>\n",
       "      <td>0.0</td>\n",
       "      <td>0.0</td>\n",
       "      <td>0.0</td>\n",
       "    </tr>\n",
       "    <tr>\n",
       "      <th>893</th>\n",
       "      <td>NaN</td>\n",
       "      <td>2</td>\n",
       "      <td>1.0</td>\n",
       "      <td>62.0</td>\n",
       "      <td>0</td>\n",
       "      <td>0</td>\n",
       "      <td>9.6875</td>\n",
       "      <td>1.0</td>\n",
       "      <td>test</td>\n",
       "      <td>0.0</td>\n",
       "      <td>...</td>\n",
       "      <td>0.0</td>\n",
       "      <td>0.0</td>\n",
       "      <td>0.0</td>\n",
       "      <td>0.0</td>\n",
       "      <td>1.0</td>\n",
       "      <td>0.0</td>\n",
       "      <td>0.0</td>\n",
       "      <td>0.0</td>\n",
       "      <td>0.0</td>\n",
       "      <td>0.0</td>\n",
       "    </tr>\n",
       "    <tr>\n",
       "      <th>894</th>\n",
       "      <td>NaN</td>\n",
       "      <td>3</td>\n",
       "      <td>1.0</td>\n",
       "      <td>27.0</td>\n",
       "      <td>0</td>\n",
       "      <td>0</td>\n",
       "      <td>8.6625</td>\n",
       "      <td>2.0</td>\n",
       "      <td>test</td>\n",
       "      <td>0.0</td>\n",
       "      <td>...</td>\n",
       "      <td>0.0</td>\n",
       "      <td>0.0</td>\n",
       "      <td>0.0</td>\n",
       "      <td>0.0</td>\n",
       "      <td>1.0</td>\n",
       "      <td>0.0</td>\n",
       "      <td>0.0</td>\n",
       "      <td>0.0</td>\n",
       "      <td>0.0</td>\n",
       "      <td>0.0</td>\n",
       "    </tr>\n",
       "    <tr>\n",
       "      <th>895</th>\n",
       "      <td>NaN</td>\n",
       "      <td>3</td>\n",
       "      <td>0.0</td>\n",
       "      <td>22.0</td>\n",
       "      <td>1</td>\n",
       "      <td>1</td>\n",
       "      <td>12.2875</td>\n",
       "      <td>2.0</td>\n",
       "      <td>test</td>\n",
       "      <td>0.0</td>\n",
       "      <td>...</td>\n",
       "      <td>0.0</td>\n",
       "      <td>0.0</td>\n",
       "      <td>0.0</td>\n",
       "      <td>0.0</td>\n",
       "      <td>0.0</td>\n",
       "      <td>1.0</td>\n",
       "      <td>0.0</td>\n",
       "      <td>0.0</td>\n",
       "      <td>0.0</td>\n",
       "      <td>0.0</td>\n",
       "    </tr>\n",
       "  </tbody>\n",
       "</table>\n",
       "<p>5 rows × 27 columns</p>\n",
       "</div>"
      ],
      "text/plain": [
       "     Survived  Pclass  Sex   Age  SibSp  Parch     Fare  Embarked dataset  \\\n",
       "891       NaN       3  1.0  34.5      0      0   7.8292       1.0    test   \n",
       "892       NaN       3  0.0  47.0      1      0   7.0000       2.0    test   \n",
       "893       NaN       2  1.0  62.0      0      0   9.6875       1.0    test   \n",
       "894       NaN       3  1.0  27.0      0      0   8.6625       2.0    test   \n",
       "895       NaN       3  0.0  22.0      1      1  12.2875       2.0    test   \n",
       "\n",
       "     prefix Capt  ...  prefix Master  prefix Miss  prefix Mlle  prefix Mme  \\\n",
       "891          0.0  ...            0.0          0.0          0.0         0.0   \n",
       "892          0.0  ...            0.0          0.0          0.0         0.0   \n",
       "893          0.0  ...            0.0          0.0          0.0         0.0   \n",
       "894          0.0  ...            0.0          0.0          0.0         0.0   \n",
       "895          0.0  ...            0.0          0.0          0.0         0.0   \n",
       "\n",
       "     prefix Mr  prefix Mrs  prefix Ms  prefix Rev  prefix Sir  \\\n",
       "891        1.0         0.0        0.0         0.0         0.0   \n",
       "892        0.0         1.0        0.0         0.0         0.0   \n",
       "893        1.0         0.0        0.0         0.0         0.0   \n",
       "894        1.0         0.0        0.0         0.0         0.0   \n",
       "895        0.0         1.0        0.0         0.0         0.0   \n",
       "\n",
       "     prefix the Countess  \n",
       "891                  0.0  \n",
       "892                  0.0  \n",
       "893                  0.0  \n",
       "894                  0.0  \n",
       "895                  0.0  \n",
       "\n",
       "[5 rows x 27 columns]"
      ]
     },
     "execution_count": 30,
     "metadata": {},
     "output_type": "execute_result"
    }
   ],
   "source": [
    "cols_to_not_normalize = cols_to_not_normalize + ['Sex']\n",
    "cat_enc = OrdinalEncoder()\n",
    "X_train[['Sex','Embarked']] = cat_enc.fit_transform(X_train[['Sex','Embarked']])\n",
    "X_train.head()"
   ]
  },
  {
   "cell_type": "markdown",
   "id": "b2a30a5f-852e-4ebe-acfa-ba1990cc3cac",
   "metadata": {
    "canvas": {
     "comments": [],
     "componentType": "CodeCell",
     "copiedOriginId": null,
     "diskcache": false,
     "headerColor": "transparent",
     "id": "f6468384-bda1-4085-8e77-996bda641c0f",
     "isComponent": false,
     "name": "",
     "parents": []
    }
   },
   "source": [
    "### 2.8.B - One Hot Encoding"
   ]
  },
  {
   "cell_type": "code",
   "execution_count": 61,
   "id": "e6975dca-7619-4b35-8ebd-160f9ce920c5",
   "metadata": {
    "canvas": {
     "comments": [],
     "componentType": "CodeCell",
     "copiedOriginId": null,
     "diskcache": false,
     "headerColor": "transparent",
     "id": "bad7b5ac-63c1-4955-a5c4-fe5a7cacc6a2",
     "isComponent": false,
     "name": "",
     "parents": []
    }
   },
   "outputs": [
    {
     "data": {
      "text/plain": [
       "<1307x5 sparse matrix of type '<class 'numpy.float64'>'\n",
       "\twith 2614 stored elements in Compressed Sparse Row format>"
      ]
     },
     "execution_count": 61,
     "metadata": {},
     "output_type": "execute_result"
    }
   ],
   "source": [
    "ohe1 = OneHotEncoder()\n",
    "ohe_result = ohe1.fit_transform(X_train[['Sex','Embarked']])\n",
    "ohe_result"
   ]
  },
  {
   "cell_type": "code",
   "execution_count": 62,
   "id": "e2a3d256-bba4-40b7-94aa-579181c7ecae",
   "metadata": {
    "canvas": {
     "comments": [],
     "componentType": "CodeCell",
     "copiedOriginId": null,
     "diskcache": false,
     "headerColor": "transparent",
     "id": "71e6a7a7-b044-4804-b272-2600b0bfc503",
     "isComponent": false,
     "name": "",
     "parents": []
    }
   },
   "outputs": [
    {
     "data": {
      "text/html": [
       "<div>\n",
       "<style scoped>\n",
       "    .dataframe tbody tr th:only-of-type {\n",
       "        vertical-align: middle;\n",
       "    }\n",
       "\n",
       "    .dataframe tbody tr th {\n",
       "        vertical-align: top;\n",
       "    }\n",
       "\n",
       "    .dataframe thead th {\n",
       "        text-align: right;\n",
       "    }\n",
       "</style>\n",
       "<table border=\"1\" class=\"dataframe\">\n",
       "  <thead>\n",
       "    <tr style=\"text-align: right;\">\n",
       "      <th></th>\n",
       "      <th>Survived</th>\n",
       "      <th>Pclass</th>\n",
       "      <th>Age</th>\n",
       "      <th>SibSp</th>\n",
       "      <th>Parch</th>\n",
       "      <th>Fare</th>\n",
       "      <th>dataset</th>\n",
       "      <th>prefix Capt</th>\n",
       "      <th>prefix Col</th>\n",
       "      <th>prefix Don</th>\n",
       "      <th>...</th>\n",
       "      <th>prefix Sir</th>\n",
       "      <th>prefix the Countess</th>\n",
       "      <th>ticket_word_only</th>\n",
       "      <th>ticket_num_only</th>\n",
       "      <th>ticket_num_and_word</th>\n",
       "      <th>Sex_female</th>\n",
       "      <th>Sex_male</th>\n",
       "      <th>Embarked_C</th>\n",
       "      <th>Embarked_Q</th>\n",
       "      <th>Embarked_S</th>\n",
       "    </tr>\n",
       "  </thead>\n",
       "  <tbody>\n",
       "    <tr>\n",
       "      <th>891</th>\n",
       "      <td>NaN</td>\n",
       "      <td>3</td>\n",
       "      <td>34.5</td>\n",
       "      <td>0</td>\n",
       "      <td>0</td>\n",
       "      <td>7.8292</td>\n",
       "      <td>test</td>\n",
       "      <td>0.0</td>\n",
       "      <td>0.0</td>\n",
       "      <td>0.0</td>\n",
       "      <td>...</td>\n",
       "      <td>0.0</td>\n",
       "      <td>0.0</td>\n",
       "      <td>0</td>\n",
       "      <td>1</td>\n",
       "      <td>0</td>\n",
       "      <td>0.0</td>\n",
       "      <td>1.0</td>\n",
       "      <td>0.0</td>\n",
       "      <td>1.0</td>\n",
       "      <td>0.0</td>\n",
       "    </tr>\n",
       "    <tr>\n",
       "      <th>892</th>\n",
       "      <td>NaN</td>\n",
       "      <td>3</td>\n",
       "      <td>47.0</td>\n",
       "      <td>1</td>\n",
       "      <td>0</td>\n",
       "      <td>7.0000</td>\n",
       "      <td>test</td>\n",
       "      <td>0.0</td>\n",
       "      <td>0.0</td>\n",
       "      <td>0.0</td>\n",
       "      <td>...</td>\n",
       "      <td>0.0</td>\n",
       "      <td>0.0</td>\n",
       "      <td>0</td>\n",
       "      <td>1</td>\n",
       "      <td>0</td>\n",
       "      <td>1.0</td>\n",
       "      <td>0.0</td>\n",
       "      <td>0.0</td>\n",
       "      <td>0.0</td>\n",
       "      <td>1.0</td>\n",
       "    </tr>\n",
       "    <tr>\n",
       "      <th>893</th>\n",
       "      <td>NaN</td>\n",
       "      <td>2</td>\n",
       "      <td>62.0</td>\n",
       "      <td>0</td>\n",
       "      <td>0</td>\n",
       "      <td>9.6875</td>\n",
       "      <td>test</td>\n",
       "      <td>0.0</td>\n",
       "      <td>0.0</td>\n",
       "      <td>0.0</td>\n",
       "      <td>...</td>\n",
       "      <td>0.0</td>\n",
       "      <td>0.0</td>\n",
       "      <td>0</td>\n",
       "      <td>1</td>\n",
       "      <td>0</td>\n",
       "      <td>0.0</td>\n",
       "      <td>1.0</td>\n",
       "      <td>0.0</td>\n",
       "      <td>1.0</td>\n",
       "      <td>0.0</td>\n",
       "    </tr>\n",
       "    <tr>\n",
       "      <th>894</th>\n",
       "      <td>NaN</td>\n",
       "      <td>3</td>\n",
       "      <td>27.0</td>\n",
       "      <td>0</td>\n",
       "      <td>0</td>\n",
       "      <td>8.6625</td>\n",
       "      <td>test</td>\n",
       "      <td>0.0</td>\n",
       "      <td>0.0</td>\n",
       "      <td>0.0</td>\n",
       "      <td>...</td>\n",
       "      <td>0.0</td>\n",
       "      <td>0.0</td>\n",
       "      <td>0</td>\n",
       "      <td>1</td>\n",
       "      <td>0</td>\n",
       "      <td>0.0</td>\n",
       "      <td>1.0</td>\n",
       "      <td>0.0</td>\n",
       "      <td>0.0</td>\n",
       "      <td>1.0</td>\n",
       "    </tr>\n",
       "    <tr>\n",
       "      <th>895</th>\n",
       "      <td>NaN</td>\n",
       "      <td>3</td>\n",
       "      <td>22.0</td>\n",
       "      <td>1</td>\n",
       "      <td>1</td>\n",
       "      <td>12.2875</td>\n",
       "      <td>test</td>\n",
       "      <td>0.0</td>\n",
       "      <td>0.0</td>\n",
       "      <td>0.0</td>\n",
       "      <td>...</td>\n",
       "      <td>0.0</td>\n",
       "      <td>0.0</td>\n",
       "      <td>0</td>\n",
       "      <td>1</td>\n",
       "      <td>0</td>\n",
       "      <td>1.0</td>\n",
       "      <td>0.0</td>\n",
       "      <td>0.0</td>\n",
       "      <td>0.0</td>\n",
       "      <td>1.0</td>\n",
       "    </tr>\n",
       "  </tbody>\n",
       "</table>\n",
       "<p>5 rows × 33 columns</p>\n",
       "</div>"
      ],
      "text/plain": [
       "     Survived  Pclass   Age  SibSp  Parch     Fare dataset  prefix Capt  \\\n",
       "891       NaN       3  34.5      0      0   7.8292    test          0.0   \n",
       "892       NaN       3  47.0      1      0   7.0000    test          0.0   \n",
       "893       NaN       2  62.0      0      0   9.6875    test          0.0   \n",
       "894       NaN       3  27.0      0      0   8.6625    test          0.0   \n",
       "895       NaN       3  22.0      1      1  12.2875    test          0.0   \n",
       "\n",
       "     prefix Col  prefix Don  ...  prefix Sir  prefix the Countess  \\\n",
       "891         0.0         0.0  ...         0.0                  0.0   \n",
       "892         0.0         0.0  ...         0.0                  0.0   \n",
       "893         0.0         0.0  ...         0.0                  0.0   \n",
       "894         0.0         0.0  ...         0.0                  0.0   \n",
       "895         0.0         0.0  ...         0.0                  0.0   \n",
       "\n",
       "     ticket_word_only  ticket_num_only  ticket_num_and_word  Sex_female  \\\n",
       "891                 0                1                    0         0.0   \n",
       "892                 0                1                    0         1.0   \n",
       "893                 0                1                    0         0.0   \n",
       "894                 0                1                    0         0.0   \n",
       "895                 0                1                    0         1.0   \n",
       "\n",
       "     Sex_male  Embarked_C  Embarked_Q  Embarked_S  \n",
       "891       1.0         0.0         1.0         0.0  \n",
       "892       0.0         0.0         0.0         1.0  \n",
       "893       1.0         0.0         1.0         0.0  \n",
       "894       1.0         0.0         0.0         1.0  \n",
       "895       0.0         0.0         0.0         1.0  \n",
       "\n",
       "[5 rows x 33 columns]"
      ]
     },
     "execution_count": 62,
     "metadata": {},
     "output_type": "execute_result"
    }
   ],
   "source": [
    "X_train[ohe1.get_feature_names_out()] = pd.DataFrame.sparse.from_spmatrix(ohe_result,X_train.index)\n",
    "X_train = X_train.drop(columns=['Sex','Embarked'])\n",
    "cols_to_not_normalize = cols_to_not_normalize + list(ohe1.get_feature_names_out())\n",
    "X_train.head()"
   ]
  },
  {
   "cell_type": "markdown",
   "id": "333560fe-1316-4a78-a955-4ef40286b1f7",
   "metadata": {
    "canvas": {
     "comments": [],
     "componentType": "CodeCell",
     "copiedOriginId": null,
     "diskcache": false,
     "headerColor": "transparent",
     "id": "94029cca-5ed6-4882-bc6f-5c1dca6df05f",
     "isComponent": false,
     "name": "",
     "parents": []
    }
   },
   "source": [
    "## 2.9 - Normalizing the dataset"
   ]
  },
  {
   "cell_type": "markdown",
   "id": "bc581cd0-fba3-4742-901e-fcf647beca74",
   "metadata": {
    "canvas": {
     "comments": [],
     "componentType": "CodeCell",
     "copiedOriginId": null,
     "diskcache": false,
     "headerColor": "transparent",
     "id": "af8b842f-dcc4-4fc0-a51d-203bfe0058aa",
     "isComponent": false,
     "name": "",
     "parents": []
    }
   },
   "source": [
    "Normalizing the dataset ensures that all weights get updated at a similar pace, encouraging quick convergence. Given models with constraints like max_iter, normalizing could allow us to get to a lower minimum error value, and therefore a more accurate model. Let's normalize the dataset below."
   ]
  },
  {
   "cell_type": "code",
   "execution_count": 63,
   "id": "d6c72d5f-e917-4466-bf76-987ef39b6c30",
   "metadata": {
    "canvas": {
     "comments": [],
     "componentType": "CodeCell",
     "copiedOriginId": null,
     "diskcache": false,
     "headerColor": "transparent",
     "id": "cb231156-4be1-4482-94ec-db1c11ab1e88",
     "isComponent": false,
     "name": "",
     "parents": []
    }
   },
   "outputs": [
    {
     "data": {
      "text/html": [
       "<div>\n",
       "<style scoped>\n",
       "    .dataframe tbody tr th:only-of-type {\n",
       "        vertical-align: middle;\n",
       "    }\n",
       "\n",
       "    .dataframe tbody tr th {\n",
       "        vertical-align: top;\n",
       "    }\n",
       "\n",
       "    .dataframe thead th {\n",
       "        text-align: right;\n",
       "    }\n",
       "</style>\n",
       "<table border=\"1\" class=\"dataframe\">\n",
       "  <thead>\n",
       "    <tr style=\"text-align: right;\">\n",
       "      <th></th>\n",
       "      <th>Survived</th>\n",
       "      <th>Pclass</th>\n",
       "      <th>Age</th>\n",
       "      <th>SibSp</th>\n",
       "      <th>Parch</th>\n",
       "      <th>Fare</th>\n",
       "      <th>dataset</th>\n",
       "      <th>prefix Capt</th>\n",
       "      <th>prefix Col</th>\n",
       "      <th>prefix Don</th>\n",
       "      <th>...</th>\n",
       "      <th>prefix Sir</th>\n",
       "      <th>prefix the Countess</th>\n",
       "      <th>ticket_word_only</th>\n",
       "      <th>ticket_num_only</th>\n",
       "      <th>ticket_num_and_word</th>\n",
       "      <th>Sex_female</th>\n",
       "      <th>Sex_male</th>\n",
       "      <th>Embarked_C</th>\n",
       "      <th>Embarked_Q</th>\n",
       "      <th>Embarked_S</th>\n",
       "    </tr>\n",
       "  </thead>\n",
       "  <tbody>\n",
       "    <tr>\n",
       "      <th>891</th>\n",
       "      <td>NaN</td>\n",
       "      <td>0.825209</td>\n",
       "      <td>0.374808</td>\n",
       "      <td>-0.475199</td>\n",
       "      <td>-0.474326</td>\n",
       "      <td>-0.488579</td>\n",
       "      <td>test</td>\n",
       "      <td>0.0</td>\n",
       "      <td>0.0</td>\n",
       "      <td>0.0</td>\n",
       "      <td>...</td>\n",
       "      <td>0.0</td>\n",
       "      <td>0.0</td>\n",
       "      <td>0</td>\n",
       "      <td>1</td>\n",
       "      <td>0</td>\n",
       "      <td>0.0</td>\n",
       "      <td>1.0</td>\n",
       "      <td>0.0</td>\n",
       "      <td>1.0</td>\n",
       "      <td>0.0</td>\n",
       "    </tr>\n",
       "    <tr>\n",
       "      <th>892</th>\n",
       "      <td>NaN</td>\n",
       "      <td>0.825209</td>\n",
       "      <td>1.339236</td>\n",
       "      <td>0.431350</td>\n",
       "      <td>-0.474326</td>\n",
       "      <td>-0.505273</td>\n",
       "      <td>test</td>\n",
       "      <td>0.0</td>\n",
       "      <td>0.0</td>\n",
       "      <td>0.0</td>\n",
       "      <td>...</td>\n",
       "      <td>0.0</td>\n",
       "      <td>0.0</td>\n",
       "      <td>0</td>\n",
       "      <td>1</td>\n",
       "      <td>0</td>\n",
       "      <td>1.0</td>\n",
       "      <td>0.0</td>\n",
       "      <td>0.0</td>\n",
       "      <td>0.0</td>\n",
       "      <td>1.0</td>\n",
       "    </tr>\n",
       "    <tr>\n",
       "      <th>893</th>\n",
       "      <td>NaN</td>\n",
       "      <td>-0.373501</td>\n",
       "      <td>2.496550</td>\n",
       "      <td>-0.475199</td>\n",
       "      <td>-0.474326</td>\n",
       "      <td>-0.451165</td>\n",
       "      <td>test</td>\n",
       "      <td>0.0</td>\n",
       "      <td>0.0</td>\n",
       "      <td>0.0</td>\n",
       "      <td>...</td>\n",
       "      <td>0.0</td>\n",
       "      <td>0.0</td>\n",
       "      <td>0</td>\n",
       "      <td>1</td>\n",
       "      <td>0</td>\n",
       "      <td>0.0</td>\n",
       "      <td>1.0</td>\n",
       "      <td>0.0</td>\n",
       "      <td>1.0</td>\n",
       "      <td>0.0</td>\n",
       "    </tr>\n",
       "    <tr>\n",
       "      <th>894</th>\n",
       "      <td>NaN</td>\n",
       "      <td>0.825209</td>\n",
       "      <td>-0.203849</td>\n",
       "      <td>-0.475199</td>\n",
       "      <td>-0.474326</td>\n",
       "      <td>-0.471802</td>\n",
       "      <td>test</td>\n",
       "      <td>0.0</td>\n",
       "      <td>0.0</td>\n",
       "      <td>0.0</td>\n",
       "      <td>...</td>\n",
       "      <td>0.0</td>\n",
       "      <td>0.0</td>\n",
       "      <td>0</td>\n",
       "      <td>1</td>\n",
       "      <td>0</td>\n",
       "      <td>0.0</td>\n",
       "      <td>1.0</td>\n",
       "      <td>0.0</td>\n",
       "      <td>0.0</td>\n",
       "      <td>1.0</td>\n",
       "    </tr>\n",
       "    <tr>\n",
       "      <th>895</th>\n",
       "      <td>NaN</td>\n",
       "      <td>0.825209</td>\n",
       "      <td>-0.589620</td>\n",
       "      <td>0.431350</td>\n",
       "      <td>0.765897</td>\n",
       "      <td>-0.398819</td>\n",
       "      <td>test</td>\n",
       "      <td>0.0</td>\n",
       "      <td>0.0</td>\n",
       "      <td>0.0</td>\n",
       "      <td>...</td>\n",
       "      <td>0.0</td>\n",
       "      <td>0.0</td>\n",
       "      <td>0</td>\n",
       "      <td>1</td>\n",
       "      <td>0</td>\n",
       "      <td>1.0</td>\n",
       "      <td>0.0</td>\n",
       "      <td>0.0</td>\n",
       "      <td>0.0</td>\n",
       "      <td>1.0</td>\n",
       "    </tr>\n",
       "  </tbody>\n",
       "</table>\n",
       "<p>5 rows × 33 columns</p>\n",
       "</div>"
      ],
      "text/plain": [
       "     Survived    Pclass       Age     SibSp     Parch      Fare dataset  \\\n",
       "891       NaN  0.825209  0.374808 -0.475199 -0.474326 -0.488579    test   \n",
       "892       NaN  0.825209  1.339236  0.431350 -0.474326 -0.505273    test   \n",
       "893       NaN -0.373501  2.496550 -0.475199 -0.474326 -0.451165    test   \n",
       "894       NaN  0.825209 -0.203849 -0.475199 -0.474326 -0.471802    test   \n",
       "895       NaN  0.825209 -0.589620  0.431350  0.765897 -0.398819    test   \n",
       "\n",
       "     prefix Capt  prefix Col  prefix Don  ...  prefix Sir  \\\n",
       "891          0.0         0.0         0.0  ...         0.0   \n",
       "892          0.0         0.0         0.0  ...         0.0   \n",
       "893          0.0         0.0         0.0  ...         0.0   \n",
       "894          0.0         0.0         0.0  ...         0.0   \n",
       "895          0.0         0.0         0.0  ...         0.0   \n",
       "\n",
       "     prefix the Countess  ticket_word_only  ticket_num_only  \\\n",
       "891                  0.0                 0                1   \n",
       "892                  0.0                 0                1   \n",
       "893                  0.0                 0                1   \n",
       "894                  0.0                 0                1   \n",
       "895                  0.0                 0                1   \n",
       "\n",
       "     ticket_num_and_word  Sex_female  Sex_male  Embarked_C  Embarked_Q  \\\n",
       "891                    0         0.0       1.0         0.0         1.0   \n",
       "892                    0         1.0       0.0         0.0         0.0   \n",
       "893                    0         0.0       1.0         0.0         1.0   \n",
       "894                    0         0.0       1.0         0.0         0.0   \n",
       "895                    0         1.0       0.0         0.0         0.0   \n",
       "\n",
       "     Embarked_S  \n",
       "891         0.0  \n",
       "892         1.0  \n",
       "893         0.0  \n",
       "894         1.0  \n",
       "895         1.0  \n",
       "\n",
       "[5 rows x 33 columns]"
      ]
     },
     "execution_count": 63,
     "metadata": {},
     "output_type": "execute_result"
    }
   ],
   "source": [
    "z_score_scaler = StandardScaler()\n",
    "z_score_scaler.fit(X_train.drop(columns=cols_to_not_normalize).loc[X_train['dataset']=='train',:]) # fit on train data only\n",
    "X_train.loc[:,X_train.drop(columns=cols_to_not_normalize).columns] = z_score_scaler.transform(X_train.drop(columns=cols_to_not_normalize)) # transform train and test data\n",
    "X_train.head()"
   ]
  },
  {
   "cell_type": "markdown",
   "id": "5c21d1d9-2f04-47de-a20e-7b05f3e17591",
   "metadata": {
    "canvas": {
     "comments": [],
     "componentType": "CodeCell",
     "copiedOriginId": null,
     "diskcache": false,
     "headerColor": "transparent",
     "id": "5c922a50-5b77-4bad-9be6-e3f9f35e828d",
     "isComponent": false,
     "name": "",
     "parents": []
    }
   },
   "source": [
    "## 2.10 - Separating the datasets into `X_train`, `y_train`, and `X_test`"
   ]
  },
  {
   "cell_type": "markdown",
   "id": "453b95b5-4a77-4a74-8a45-20265c3c1543",
   "metadata": {
    "canvas": {
     "comments": [],
     "componentType": "CodeCell",
     "copiedOriginId": null,
     "diskcache": false,
     "headerColor": "transparent",
     "id": "701de647-cbe4-42ed-80cd-21a17fb5fe9c",
     "isComponent": false,
     "name": "",
     "parents": []
    }
   },
   "source": [
    "Finally, we need to separate our training dataset from our test dataset, as well as our target from our features within the training dataset."
   ]
  },
  {
   "cell_type": "code",
   "execution_count": 64,
   "id": "286d9138-9c24-44b3-b0bf-e37234065f6a",
   "metadata": {
    "canvas": {
     "comments": [],
     "componentType": "CodeCell",
     "copiedOriginId": null,
     "diskcache": false,
     "headerColor": "transparent",
     "id": "d61270db-ff42-4ba0-a181-4ae150483748",
     "isComponent": false,
     "name": "",
     "parents": []
    }
   },
   "outputs": [
    {
     "data": {
      "text/plain": [
       "(418, 31)"
      ]
     },
     "metadata": {},
     "output_type": "display_data"
    },
    {
     "data": {
      "text/plain": [
       "(889, 31)"
      ]
     },
     "metadata": {},
     "output_type": "display_data"
    },
    {
     "data": {
      "text/plain": [
       "(889,)"
      ]
     },
     "metadata": {},
     "output_type": "display_data"
    }
   ],
   "source": [
    "y_train = X_train.loc[X_train['dataset'] == 'train','Survived']\n",
    "X_train = X_train.drop(columns=['Survived'])\n",
    "\n",
    "X_test = X_train.loc[X_train['dataset'] == 'test',:]\n",
    "X_test = X_test.drop(columns=['dataset'])\n",
    "\n",
    "X_train = X_train.loc[X_train['dataset'] == 'train',:]\n",
    "X_train = X_train.drop(columns=['dataset'])\n",
    "\n",
    "\n",
    "display(X_test.shape)\n",
    "display(X_train.shape)\n",
    "display(y_train.shape)"
   ]
  },
  {
   "cell_type": "markdown",
   "id": "3fd34e2e-2a88-4332-b2e3-5915a0274825",
   "metadata": {
    "canvas": {
     "comments": [],
     "componentType": "CodeCell",
     "copiedOriginId": null,
     "diskcache": false,
     "headerColor": "transparent",
     "id": "9f13a491-7d55-41a3-911a-5e6dab0b9908",
     "isComponent": false,
     "name": "",
     "parents": []
    }
   },
   "source": [
    "The dimensions look compatible. Now let's finally check that there are no null values in any of the datasets."
   ]
  },
  {
   "cell_type": "code",
   "execution_count": 65,
   "id": "c9f2a51b-4ce9-4bc4-80fb-66ea2fc4b982",
   "metadata": {
    "canvas": {
     "comments": [],
     "componentType": "CodeCell",
     "copiedOriginId": null,
     "diskcache": false,
     "headerColor": "transparent",
     "id": "d07f13a7-2cb8-418e-9980-332b87538278",
     "isComponent": false,
     "name": "",
     "parents": []
    }
   },
   "outputs": [
    {
     "data": {
      "text/plain": [
       "0"
      ]
     },
     "execution_count": 65,
     "metadata": {},
     "output_type": "execute_result"
    }
   ],
   "source": [
    "X_test.isnull().sum().sum() + X_train.isnull().sum().sum() + y_train.isnull().sum()"
   ]
  },
  {
   "cell_type": "code",
   "execution_count": 66,
   "id": "f8d8119b-2d02-45e3-ba6e-8822a7bae14f",
   "metadata": {
    "canvas": {
     "comments": [],
     "componentType": "CodeCell",
     "copiedOriginId": null,
     "diskcache": false,
     "headerColor": "transparent",
     "id": "eac06cc9-ebb2-4960-a5cf-90b90c9dbdd1",
     "isComponent": false,
     "name": "",
     "parents": []
    }
   },
   "outputs": [
    {
     "data": {
      "text/html": [
       "<div>\n",
       "<style scoped>\n",
       "    .dataframe tbody tr th:only-of-type {\n",
       "        vertical-align: middle;\n",
       "    }\n",
       "\n",
       "    .dataframe tbody tr th {\n",
       "        vertical-align: top;\n",
       "    }\n",
       "\n",
       "    .dataframe thead th {\n",
       "        text-align: right;\n",
       "    }\n",
       "</style>\n",
       "<table border=\"1\" class=\"dataframe\">\n",
       "  <thead>\n",
       "    <tr style=\"text-align: right;\">\n",
       "      <th></th>\n",
       "      <th>Pclass</th>\n",
       "      <th>Age</th>\n",
       "      <th>SibSp</th>\n",
       "      <th>Parch</th>\n",
       "      <th>Fare</th>\n",
       "      <th>prefix Capt</th>\n",
       "      <th>prefix Col</th>\n",
       "      <th>prefix Don</th>\n",
       "      <th>prefix Dona</th>\n",
       "      <th>prefix Dr</th>\n",
       "      <th>...</th>\n",
       "      <th>prefix Sir</th>\n",
       "      <th>prefix the Countess</th>\n",
       "      <th>ticket_word_only</th>\n",
       "      <th>ticket_num_only</th>\n",
       "      <th>ticket_num_and_word</th>\n",
       "      <th>Sex_female</th>\n",
       "      <th>Sex_male</th>\n",
       "      <th>Embarked_C</th>\n",
       "      <th>Embarked_Q</th>\n",
       "      <th>Embarked_S</th>\n",
       "    </tr>\n",
       "  </thead>\n",
       "  <tbody>\n",
       "    <tr>\n",
       "      <th>0</th>\n",
       "      <td>0.825209</td>\n",
       "      <td>-0.589620</td>\n",
       "      <td>0.431350</td>\n",
       "      <td>-0.474326</td>\n",
       "      <td>-0.500240</td>\n",
       "      <td>0.0</td>\n",
       "      <td>0.0</td>\n",
       "      <td>0.0</td>\n",
       "      <td>0.0</td>\n",
       "      <td>0.0</td>\n",
       "      <td>...</td>\n",
       "      <td>0.0</td>\n",
       "      <td>0.0</td>\n",
       "      <td>0</td>\n",
       "      <td>0</td>\n",
       "      <td>1</td>\n",
       "      <td>0.0</td>\n",
       "      <td>1.0</td>\n",
       "      <td>0.0</td>\n",
       "      <td>0.0</td>\n",
       "      <td>1.0</td>\n",
       "    </tr>\n",
       "    <tr>\n",
       "      <th>1</th>\n",
       "      <td>-1.572211</td>\n",
       "      <td>0.644848</td>\n",
       "      <td>0.431350</td>\n",
       "      <td>-0.474326</td>\n",
       "      <td>0.788947</td>\n",
       "      <td>0.0</td>\n",
       "      <td>0.0</td>\n",
       "      <td>0.0</td>\n",
       "      <td>0.0</td>\n",
       "      <td>0.0</td>\n",
       "      <td>...</td>\n",
       "      <td>0.0</td>\n",
       "      <td>0.0</td>\n",
       "      <td>0</td>\n",
       "      <td>0</td>\n",
       "      <td>1</td>\n",
       "      <td>1.0</td>\n",
       "      <td>0.0</td>\n",
       "      <td>1.0</td>\n",
       "      <td>0.0</td>\n",
       "      <td>0.0</td>\n",
       "    </tr>\n",
       "    <tr>\n",
       "      <th>2</th>\n",
       "      <td>0.825209</td>\n",
       "      <td>-0.281003</td>\n",
       "      <td>-0.475199</td>\n",
       "      <td>-0.474326</td>\n",
       "      <td>-0.486650</td>\n",
       "      <td>0.0</td>\n",
       "      <td>0.0</td>\n",
       "      <td>0.0</td>\n",
       "      <td>0.0</td>\n",
       "      <td>0.0</td>\n",
       "      <td>...</td>\n",
       "      <td>0.0</td>\n",
       "      <td>0.0</td>\n",
       "      <td>0</td>\n",
       "      <td>0</td>\n",
       "      <td>1</td>\n",
       "      <td>1.0</td>\n",
       "      <td>0.0</td>\n",
       "      <td>0.0</td>\n",
       "      <td>0.0</td>\n",
       "      <td>1.0</td>\n",
       "    </tr>\n",
       "    <tr>\n",
       "      <th>3</th>\n",
       "      <td>-1.572211</td>\n",
       "      <td>0.413385</td>\n",
       "      <td>0.431350</td>\n",
       "      <td>-0.474326</td>\n",
       "      <td>0.422861</td>\n",
       "      <td>0.0</td>\n",
       "      <td>0.0</td>\n",
       "      <td>0.0</td>\n",
       "      <td>0.0</td>\n",
       "      <td>0.0</td>\n",
       "      <td>...</td>\n",
       "      <td>0.0</td>\n",
       "      <td>0.0</td>\n",
       "      <td>0</td>\n",
       "      <td>1</td>\n",
       "      <td>0</td>\n",
       "      <td>1.0</td>\n",
       "      <td>0.0</td>\n",
       "      <td>0.0</td>\n",
       "      <td>0.0</td>\n",
       "      <td>1.0</td>\n",
       "    </tr>\n",
       "    <tr>\n",
       "      <th>4</th>\n",
       "      <td>0.825209</td>\n",
       "      <td>0.413385</td>\n",
       "      <td>-0.475199</td>\n",
       "      <td>-0.474326</td>\n",
       "      <td>-0.484133</td>\n",
       "      <td>0.0</td>\n",
       "      <td>0.0</td>\n",
       "      <td>0.0</td>\n",
       "      <td>0.0</td>\n",
       "      <td>0.0</td>\n",
       "      <td>...</td>\n",
       "      <td>0.0</td>\n",
       "      <td>0.0</td>\n",
       "      <td>0</td>\n",
       "      <td>1</td>\n",
       "      <td>0</td>\n",
       "      <td>0.0</td>\n",
       "      <td>1.0</td>\n",
       "      <td>0.0</td>\n",
       "      <td>0.0</td>\n",
       "      <td>1.0</td>\n",
       "    </tr>\n",
       "  </tbody>\n",
       "</table>\n",
       "<p>5 rows × 31 columns</p>\n",
       "</div>"
      ],
      "text/plain": [
       "     Pclass       Age     SibSp     Parch      Fare  prefix Capt  prefix Col  \\\n",
       "0  0.825209 -0.589620  0.431350 -0.474326 -0.500240          0.0         0.0   \n",
       "1 -1.572211  0.644848  0.431350 -0.474326  0.788947          0.0         0.0   \n",
       "2  0.825209 -0.281003 -0.475199 -0.474326 -0.486650          0.0         0.0   \n",
       "3 -1.572211  0.413385  0.431350 -0.474326  0.422861          0.0         0.0   \n",
       "4  0.825209  0.413385 -0.475199 -0.474326 -0.484133          0.0         0.0   \n",
       "\n",
       "   prefix Don  prefix Dona  prefix Dr  ...  prefix Sir  prefix the Countess  \\\n",
       "0         0.0          0.0        0.0  ...         0.0                  0.0   \n",
       "1         0.0          0.0        0.0  ...         0.0                  0.0   \n",
       "2         0.0          0.0        0.0  ...         0.0                  0.0   \n",
       "3         0.0          0.0        0.0  ...         0.0                  0.0   \n",
       "4         0.0          0.0        0.0  ...         0.0                  0.0   \n",
       "\n",
       "   ticket_word_only  ticket_num_only  ticket_num_and_word  Sex_female  \\\n",
       "0                 0                0                    1         0.0   \n",
       "1                 0                0                    1         1.0   \n",
       "2                 0                0                    1         1.0   \n",
       "3                 0                1                    0         1.0   \n",
       "4                 0                1                    0         0.0   \n",
       "\n",
       "   Sex_male  Embarked_C  Embarked_Q  Embarked_S  \n",
       "0       1.0         0.0         0.0         1.0  \n",
       "1       0.0         1.0         0.0         0.0  \n",
       "2       0.0         0.0         0.0         1.0  \n",
       "3       0.0         0.0         0.0         1.0  \n",
       "4       1.0         0.0         0.0         1.0  \n",
       "\n",
       "[5 rows x 31 columns]"
      ]
     },
     "execution_count": 66,
     "metadata": {},
     "output_type": "execute_result"
    }
   ],
   "source": [
    "X_train.head()"
   ]
  },
  {
   "cell_type": "markdown",
   "id": "0d90fae5-62bb-4c05-9ee1-cf8f440577df",
   "metadata": {
    "canvas": {
     "comments": [],
     "componentType": "CodeCell",
     "copiedOriginId": null,
     "diskcache": false,
     "headerColor": "transparent",
     "id": "a7957127-67f5-4f26-b271-17293d2c2007",
     "isComponent": false,
     "name": "",
     "parents": []
    }
   },
   "source": [
    "Great, now that we've cleaned up our `X_train`, `y_Train`, and `X_test` datasets, it's time to train our model!"
   ]
  },
  {
   "cell_type": "markdown",
   "id": "75e70610-a313-44d3-b9a1-5c6554a5f3a6",
   "metadata": {
    "canvas": {
     "comments": [],
     "componentType": "CodeCell",
     "copiedOriginId": null,
     "diskcache": false,
     "headerColor": "transparent",
     "id": "80a49551-56bf-4766-aab0-b9b9da9a2e67",
     "isComponent": false,
     "name": "",
     "parents": []
    }
   },
   "source": [
    "# 3 - Training the ML model"
   ]
  },
  {
   "cell_type": "markdown",
   "id": "f307a705-8b7d-4305-9b71-9416b0300d3b",
   "metadata": {
    "canvas": {
     "comments": [],
     "componentType": "CodeCell",
     "copiedOriginId": null,
     "diskcache": false,
     "headerColor": "transparent",
     "id": "79525d0c-4592-420d-9e37-6486f2c5efa1",
     "isComponent": false,
     "name": "",
     "parents": []
    }
   },
   "source": [
    "## 3.1 - Linear Regression Model"
   ]
  },
  {
   "cell_type": "markdown",
   "id": "5e2208ff-e72f-47c9-9ef5-f9cebc80437c",
   "metadata": {
    "canvas": {
     "comments": [],
     "componentType": "CodeCell",
     "copiedOriginId": null,
     "diskcache": false,
     "headerColor": "transparent",
     "id": "0bed2ee2-c286-478f-be05-4ecc8402575c",
     "isComponent": false,
     "name": "",
     "parents": []
    }
   },
   "source": [
    "First model we're going to try is a linear model with a rounding function. I don't expect this model to perform very well--here's how it did."
   ]
  },
  {
   "cell_type": "markdown",
   "id": "33fa1860-ba12-4cbf-9109-c5b8fca9d1b5",
   "metadata": {
    "canvas": {
     "comments": [],
     "componentType": "CodeCell",
     "copiedOriginId": null,
     "diskcache": false,
     "headerColor": "transparent",
     "id": "e65227ff-5403-4ae4-9b0b-86d5facaed2c",
     "isComponent": false,
     "name": "",
     "parents": []
    }
   },
   "source": [
    "|2.1|2.3|2.4|2.5|2.6|2.7|2.8|2.9|filename|Score\n",
    "|---|---|---|---|---|---|---|---|---|---|\n",
    "|A|A|A|A|A|A|A|&#x2715;|submission.csv|0.768|\n",
    "|A|A|B.A|A|A|A|A|&#x2715;|submission3.csv|0.770|\n",
    "|A|A|B.A|A|A|A|A|&check;|submission5.csv|0.770|\n",
    "|A|B|B.B|A|A|A|A|&check;|submission7.csv|0.775|\n",
    "|A|B|B.B|A|A|A|B|&check;|submission10.csv|0.778|\n",
    "|A|B|B.B|B|A|A|B|&check;|submission13.csv|0.778|"
   ]
  },
  {
   "cell_type": "code",
   "execution_count": 67,
   "id": "b77a9c76-38ac-4e20-85fa-508a8a20acd9",
   "metadata": {
    "canvas": {
     "comments": [],
     "componentType": "CodeCell",
     "copiedOriginId": null,
     "diskcache": false,
     "headerColor": "transparent",
     "id": "577041f7-bdf4-4818-9ef8-d72e65ae4abe",
     "isComponent": false,
     "name": "",
     "parents": []
    }
   },
   "outputs": [
    {
     "name": "stderr",
     "output_type": "stream",
     "text": [
      "/Users/adelusi/miniforge3/envs/tf/lib/python3.10/site-packages/sklearn/utils/validation.py:624: UserWarning: pandas.DataFrame with sparse columns found.It will be converted to a dense numpy array.\n",
      "  warnings.warn(\n",
      "/Users/adelusi/miniforge3/envs/tf/lib/python3.10/site-packages/sklearn/utils/validation.py:624: UserWarning: pandas.DataFrame with sparse columns found.It will be converted to a dense numpy array.\n",
      "  warnings.warn(\n"
     ]
    }
   ],
   "source": [
    "model = LinearRegression()\n",
    "model.fit(X_train,y_train)\n",
    "y_pred = model.predict(X_test)"
   ]
  },
  {
   "cell_type": "code",
   "execution_count": 68,
   "id": "b0e4d275-a836-4fb5-a9ff-9168aacfe8eb",
   "metadata": {
    "canvas": {
     "comments": [],
     "componentType": "CodeCell",
     "copiedOriginId": null,
     "diskcache": false,
     "headerColor": "transparent",
     "id": "a854a5ae-a094-44db-9b9d-a089c179f8b7",
     "isComponent": false,
     "name": "",
     "parents": []
    }
   },
   "outputs": [
    {
     "data": {
      "text/plain": [
       "array([0, 1, 0, 0, 1, 0, 1, 0, 1, 0, 0, 0, 1, 0, 1, 1, 0, 0, 1, 1, 0, 1,\n",
       "       1, 0, 1, 0, 1, 0, 0, 0, 0, 0, 1, 1, 0, 0, 1, 1, 0, 0, 0, 0, 0, 1,\n",
       "       1, 0, 0, 0, 1, 1, 0, 0, 1, 1, 0, 0, 0, 0, 0, 1, 0, 0, 0, 1, 1, 1,\n",
       "       1, 0, 0, 1, 1, 0, 1, 0, 1, 1, 0, 1, 0, 1, 1, 0, 0, 0, 0, 0, 1, 1,\n",
       "       1, 1, 1, 0, 1, 0, 0, 0, 1, 0, 1, 0, 1, 0, 0, 0, 1, 0, 0, 0, 0, 0,\n",
       "       0, 1, 1, 1, 1, 0, 0, 1, 0, 1, 1, 0, 1, 0, 0, 1, 0, 1, 0, 0, 0, 1,\n",
       "       1, 0, 0, 0, 0, 0, 1, 0, 0, 1, 0, 0, 0, 0, 0, 0, 0, 0, 1, 0, 0, 1,\n",
       "       0, 0, 1, 1, 0, 1, 1, 1, 1, 0, 0, 1, 0, 0, 1, 1, 0, 0, 0, 0, 0, 1,\n",
       "       1, 0, 1, 1, 0, 0, 1, 0, 1, 0, 1, 0, 0, 0, 0, 0, 1, 0, 1, 0, 1, 1,\n",
       "       0, 1, 1, 1, 1, 1, 0, 0, 1, 0, 1, 0, 0, 0, 0, 1, 0, 0, 1, 0, 1, 0,\n",
       "       1, 0, 1, 0, 1, 1, 0, 1, 0, 0, 0, 1, 0, 0, 0, 0, 0, 0, 1, 1, 1, 1,\n",
       "       0, 0, 0, 0, 1, 0, 1, 1, 1, 0, 0, 0, 0, 0, 0, 0, 1, 0, 0, 0, 1, 1,\n",
       "       0, 0, 0, 0, 1, 0, 0, 0, 1, 1, 0, 1, 0, 0, 0, 0, 1, 1, 1, 1, 1, 0,\n",
       "       0, 0, 0, 0, 0, 1, 0, 0, 0, 0, 1, 0, 0, 0, 0, 0, 0, 0, 1, 1, 0, 1,\n",
       "       0, 1, 0, 0, 0, 1, 1, 1, 0, 0, 0, 0, 0, 0, 0, 0, 1, 0, 1, 0, 0, 0,\n",
       "       1, 0, 0, 1, 0, 0, 0, 0, 0, 1, 0, 0, 0, 1, 1, 1, 0, 1, 0, 1, 1, 0,\n",
       "       0, 0, 1, 0, 1, 0, 0, 1, 0, 1, 1, 0, 1, 0, 0, 1, 1, 0, 0, 1, 0, 0,\n",
       "       1, 1, 0, 0, 0, 0, 0, 0, 1, 1, 0, 1, 0, 0, 0, 0, 0, 1, 1, 0, 0, 1,\n",
       "       0, 1, 0, 0, 1, 0, 1, 0, 0, 0, 0, 0, 1, 1, 1, 1, 1, 0, 1, 0, 0, 1])"
      ]
     },
     "execution_count": 68,
     "metadata": {},
     "output_type": "execute_result"
    }
   ],
   "source": [
    "y_pred1 = y_pred.round().astype(int)\n",
    "y_pred1"
   ]
  },
  {
   "cell_type": "code",
   "execution_count": 69,
   "id": "e34e4fae-b11f-46c7-b949-5ef88bdd6441",
   "metadata": {
    "canvas": {
     "comments": [],
     "componentType": "CodeCell",
     "copiedOriginId": null,
     "diskcache": false,
     "headerColor": "transparent",
     "id": "78d302b1-91ab-4201-9ef6-c1a53845357a",
     "isComponent": false,
     "name": "",
     "parents": []
    }
   },
   "outputs": [
    {
     "data": {
      "text/html": [
       "<div>\n",
       "<style scoped>\n",
       "    .dataframe tbody tr th:only-of-type {\n",
       "        vertical-align: middle;\n",
       "    }\n",
       "\n",
       "    .dataframe tbody tr th {\n",
       "        vertical-align: top;\n",
       "    }\n",
       "\n",
       "    .dataframe thead th {\n",
       "        text-align: right;\n",
       "    }\n",
       "</style>\n",
       "<table border=\"1\" class=\"dataframe\">\n",
       "  <thead>\n",
       "    <tr style=\"text-align: right;\">\n",
       "      <th></th>\n",
       "      <th>Survived</th>\n",
       "    </tr>\n",
       "    <tr>\n",
       "      <th>PassengerId</th>\n",
       "      <th></th>\n",
       "    </tr>\n",
       "  </thead>\n",
       "  <tbody>\n",
       "    <tr>\n",
       "      <th>892</th>\n",
       "      <td>0</td>\n",
       "    </tr>\n",
       "    <tr>\n",
       "      <th>893</th>\n",
       "      <td>1</td>\n",
       "    </tr>\n",
       "    <tr>\n",
       "      <th>894</th>\n",
       "      <td>0</td>\n",
       "    </tr>\n",
       "    <tr>\n",
       "      <th>895</th>\n",
       "      <td>0</td>\n",
       "    </tr>\n",
       "    <tr>\n",
       "      <th>896</th>\n",
       "      <td>1</td>\n",
       "    </tr>\n",
       "  </tbody>\n",
       "</table>\n",
       "</div>"
      ],
      "text/plain": [
       "             Survived\n",
       "PassengerId          \n",
       "892                 0\n",
       "893                 1\n",
       "894                 0\n",
       "895                 0\n",
       "896                 1"
      ]
     },
     "execution_count": 69,
     "metadata": {},
     "output_type": "execute_result"
    }
   ],
   "source": [
    "temp = X_test.merge(pass_id,how='inner',left_index=True,right_index=True)\n",
    "submission = pd.DataFrame(temp['PassengerId'])\n",
    "submission['Survived'] = y_pred1\n",
    "submission = submission.set_index('PassengerId')\n",
    "submission.head()"
   ]
  },
  {
   "cell_type": "code",
   "execution_count": 70,
   "id": "ab471d15-c806-47ff-b175-524d4b889f8b",
   "metadata": {
    "canvas": {
     "comments": [],
     "componentType": "CodeCell",
     "copiedOriginId": null,
     "diskcache": false,
     "headerColor": "transparent",
     "id": "4aca3372-04f0-4199-b119-023dd01c9dca",
     "isComponent": false,
     "name": "",
     "parents": []
    }
   },
   "outputs": [],
   "source": [
    "submission.to_csv('submissions/submission13.csv')"
   ]
  },
  {
   "cell_type": "markdown",
   "id": "ea522981-36c9-44b1-bf51-2acf9e3326b4",
   "metadata": {
    "canvas": {
     "comments": [],
     "componentType": "CodeCell",
     "copiedOriginId": null,
     "diskcache": false,
     "headerColor": "transparent",
     "id": "1d9dcc07-e1e4-40f6-8f8b-40b4b31f2806",
     "isComponent": false,
     "name": "",
     "parents": []
    }
   },
   "source": [
    "## 3.2 - Logistic Regression Model"
   ]
  },
  {
   "cell_type": "markdown",
   "id": "be89b0ee-3e5a-4798-998e-bfc203263c3f",
   "metadata": {
    "canvas": {
     "comments": [],
     "componentType": "CodeCell",
     "copiedOriginId": null,
     "diskcache": false,
     "headerColor": "transparent",
     "id": "59cfde36-c900-4b5b-8795-eba7842ab766",
     "isComponent": false,
     "name": "",
     "parents": []
    }
   },
   "source": [
    "Next let's try a logistic regression model, more suited to the task of classification. I expect this model to perform a bit better than the linear one. Here's how it did.\n",
    "\n",
    "|2.1|2.3|2.4|2.5|2.6|2.7|2.8|2.9|filename|Score\n",
    "|---|---|---|---|---|---|---|---|---|---|\n",
    "|A|A|A|A|A|A|A|&#x2715;|submission1.csv|0.770|\n",
    "|A|A|A|A|A|A|A|&check;|submission2.csv|0.768|\n",
    "|A|A|B.A|A|A|A|A|&#x2715;|submission4.csv|0.770|\n",
    "|A|A|B.A|A|A|A|A|&check;|submission6.csv|0.768|\n",
    "|A|B|B.B|A|A|A|A|&check;|submission8.csv|0.770|\n",
    "|A|B|B.B|A|A|A|B|&check;|submission11.csv|0.773|\n",
    "|A|B|B.B|B|A|A|B|&check;|submission14.csv|0.773|\n",
    "\n",
    "Surprisingly didn't perform that much better than Linear regression in terms of accuracy."
   ]
  },
  {
   "cell_type": "code",
   "execution_count": 71,
   "id": "0787c7ee-7bd0-4ea5-af21-461b0c6ce162",
   "metadata": {
    "canvas": {
     "comments": [],
     "componentType": "CodeCell",
     "copiedOriginId": null,
     "diskcache": false,
     "headerColor": "transparent",
     "id": "60279762-97a6-4e51-a351-ad3c15a6bd62",
     "isComponent": false,
     "name": "",
     "parents": []
    }
   },
   "outputs": [
    {
     "name": "stderr",
     "output_type": "stream",
     "text": [
      "/Users/adelusi/miniforge3/envs/tf/lib/python3.10/site-packages/sklearn/utils/validation.py:624: UserWarning: pandas.DataFrame with sparse columns found.It will be converted to a dense numpy array.\n",
      "  warnings.warn(\n",
      "/Users/adelusi/miniforge3/envs/tf/lib/python3.10/site-packages/sklearn/utils/validation.py:624: UserWarning: pandas.DataFrame with sparse columns found.It will be converted to a dense numpy array.\n",
      "  warnings.warn(\n"
     ]
    }
   ],
   "source": [
    "model = LogisticRegression(max_iter=1000) # wasn't converging with default value of 100\n",
    "model.fit(X_train,y_train)\n",
    "y_pred = model.predict(X_test)"
   ]
  },
  {
   "cell_type": "code",
   "execution_count": 72,
   "id": "95f60ce9-8735-4249-b6cf-b9abb747aedd",
   "metadata": {
    "canvas": {
     "comments": [],
     "componentType": "CodeCell",
     "copiedOriginId": null,
     "diskcache": false,
     "headerColor": "transparent",
     "id": "4a97f991-12ea-4a14-978f-092bb09c6bf6",
     "isComponent": false,
     "name": "",
     "parents": []
    }
   },
   "outputs": [
    {
     "data": {
      "text/plain": [
       "array([0, 1, 0, 0, 1, 0, 1, 0, 1, 0, 0, 0, 1, 0, 1, 1, 0, 0, 0, 1, 0, 1,\n",
       "       1, 1, 1, 0, 1, 0, 0, 0, 0, 0, 0, 1, 0, 0, 1, 1, 0, 0, 0, 0, 0, 1,\n",
       "       1, 0, 0, 0, 1, 1, 0, 0, 1, 1, 0, 0, 0, 0, 0, 1, 0, 0, 0, 1, 1, 1,\n",
       "       1, 0, 1, 1, 1, 0, 1, 1, 1, 1, 0, 1, 0, 1, 1, 0, 0, 0, 0, 0, 1, 1,\n",
       "       1, 1, 1, 0, 1, 0, 1, 0, 1, 0, 1, 0, 1, 0, 0, 0, 1, 0, 0, 0, 0, 0,\n",
       "       0, 1, 1, 1, 1, 0, 0, 1, 1, 1, 1, 0, 1, 0, 0, 1, 0, 0, 0, 0, 0, 1,\n",
       "       0, 0, 0, 0, 0, 0, 1, 0, 0, 1, 0, 0, 0, 0, 0, 0, 0, 0, 1, 0, 0, 1,\n",
       "       0, 0, 1, 1, 0, 1, 1, 1, 1, 0, 0, 1, 0, 0, 1, 1, 0, 0, 0, 0, 0, 1,\n",
       "       1, 0, 1, 1, 0, 0, 1, 0, 1, 0, 1, 0, 0, 0, 0, 0, 1, 0, 1, 0, 1, 1,\n",
       "       0, 1, 1, 1, 1, 1, 0, 1, 1, 0, 1, 0, 0, 0, 0, 1, 0, 0, 1, 0, 1, 0,\n",
       "       1, 0, 1, 0, 1, 1, 0, 1, 0, 0, 0, 1, 0, 0, 0, 0, 0, 0, 1, 1, 1, 1,\n",
       "       0, 0, 0, 0, 1, 0, 1, 1, 1, 0, 1, 0, 0, 0, 0, 0, 1, 0, 0, 0, 1, 1,\n",
       "       0, 0, 0, 0, 1, 0, 0, 0, 1, 1, 0, 1, 0, 0, 0, 0, 1, 1, 1, 1, 1, 0,\n",
       "       0, 0, 0, 0, 0, 1, 0, 0, 0, 0, 1, 0, 0, 0, 0, 0, 0, 0, 1, 1, 0, 1,\n",
       "       0, 1, 0, 0, 0, 1, 1, 1, 0, 0, 0, 0, 0, 0, 0, 0, 1, 0, 1, 0, 0, 0,\n",
       "       1, 0, 0, 1, 0, 0, 0, 0, 0, 1, 0, 0, 0, 1, 0, 1, 0, 1, 0, 1, 1, 0,\n",
       "       0, 0, 1, 0, 1, 0, 0, 1, 0, 1, 1, 0, 1, 0, 0, 1, 1, 0, 0, 1, 0, 0,\n",
       "       1, 1, 0, 0, 0, 0, 0, 0, 1, 1, 0, 1, 0, 0, 0, 0, 1, 1, 1, 0, 0, 1,\n",
       "       0, 1, 0, 0, 1, 0, 1, 1, 0, 0, 0, 0, 1, 1, 1, 1, 1, 0, 1, 0, 0, 1])"
      ]
     },
     "execution_count": 72,
     "metadata": {},
     "output_type": "execute_result"
    }
   ],
   "source": [
    "y_pred1 = y_pred.astype(int)\n",
    "y_pred1"
   ]
  },
  {
   "cell_type": "code",
   "execution_count": 73,
   "id": "4948abe2-8a27-4d04-82bb-d350f050b783",
   "metadata": {
    "canvas": {
     "comments": [],
     "componentType": "CodeCell",
     "copiedOriginId": null,
     "diskcache": false,
     "headerColor": "transparent",
     "id": "5b768e1c-cbeb-4310-9e58-b0d82cf0e08a",
     "isComponent": false,
     "name": "",
     "parents": []
    }
   },
   "outputs": [
    {
     "data": {
      "text/html": [
       "<div>\n",
       "<style scoped>\n",
       "    .dataframe tbody tr th:only-of-type {\n",
       "        vertical-align: middle;\n",
       "    }\n",
       "\n",
       "    .dataframe tbody tr th {\n",
       "        vertical-align: top;\n",
       "    }\n",
       "\n",
       "    .dataframe thead th {\n",
       "        text-align: right;\n",
       "    }\n",
       "</style>\n",
       "<table border=\"1\" class=\"dataframe\">\n",
       "  <thead>\n",
       "    <tr style=\"text-align: right;\">\n",
       "      <th></th>\n",
       "      <th>Survived</th>\n",
       "    </tr>\n",
       "    <tr>\n",
       "      <th>PassengerId</th>\n",
       "      <th></th>\n",
       "    </tr>\n",
       "  </thead>\n",
       "  <tbody>\n",
       "    <tr>\n",
       "      <th>892</th>\n",
       "      <td>0</td>\n",
       "    </tr>\n",
       "    <tr>\n",
       "      <th>893</th>\n",
       "      <td>1</td>\n",
       "    </tr>\n",
       "    <tr>\n",
       "      <th>894</th>\n",
       "      <td>0</td>\n",
       "    </tr>\n",
       "    <tr>\n",
       "      <th>895</th>\n",
       "      <td>0</td>\n",
       "    </tr>\n",
       "    <tr>\n",
       "      <th>896</th>\n",
       "      <td>1</td>\n",
       "    </tr>\n",
       "  </tbody>\n",
       "</table>\n",
       "</div>"
      ],
      "text/plain": [
       "             Survived\n",
       "PassengerId          \n",
       "892                 0\n",
       "893                 1\n",
       "894                 0\n",
       "895                 0\n",
       "896                 1"
      ]
     },
     "execution_count": 73,
     "metadata": {},
     "output_type": "execute_result"
    }
   ],
   "source": [
    "temp = X_test.merge(pass_id,how='inner',left_index=True,right_index=True)\n",
    "submission = pd.DataFrame(temp['PassengerId'])\n",
    "submission['Survived'] = y_pred1\n",
    "submission = submission.set_index('PassengerId')\n",
    "submission.head()"
   ]
  },
  {
   "cell_type": "code",
   "execution_count": 74,
   "id": "4414fd15-2000-4b13-baed-923ce1fde923",
   "metadata": {
    "canvas": {
     "comments": [],
     "componentType": "CodeCell",
     "copiedOriginId": null,
     "diskcache": false,
     "headerColor": "transparent",
     "id": "1145cbd2-ed2e-4962-b864-c027d7a88745",
     "isComponent": false,
     "name": "",
     "parents": []
    }
   },
   "outputs": [],
   "source": [
    "submission.to_csv('submissions/submission14.csv')"
   ]
  },
  {
   "cell_type": "markdown",
   "id": "519c1e73-242c-440d-a732-f645b5ab8588",
   "metadata": {
    "canvas": {
     "comments": [],
     "componentType": "CodeCell",
     "copiedOriginId": null,
     "diskcache": false,
     "headerColor": "transparent",
     "id": "a0a90901-6ac2-4560-bc6b-a828ddce1b19",
     "isComponent": false,
     "name": "",
     "parents": []
    }
   },
   "source": [
    "## 3.3 - Neural Network"
   ]
  },
  {
   "cell_type": "markdown",
   "id": "68b53c4b-c60a-40e8-a820-297ec8549429",
   "metadata": {
    "canvas": {
     "comments": [],
     "componentType": "CodeCell",
     "copiedOriginId": null,
     "diskcache": false,
     "headerColor": "transparent",
     "id": "c1d032e1-8edd-43f1-9eb2-9a32181b7034",
     "isComponent": false,
     "name": "",
     "parents": []
    }
   },
   "source": [
    "Next let's try a logistic regression model, more suited to the task of classification. I expect this model to perform a bit better than the linear one. Here's how it did.\n",
    "\n",
    "|2.1|2.3|2.4|2.5|2.6|2.7|2.8|2.9|# of epochs|filename|Score\n",
    "|---|---|---|---|---|---|---|---|---|---|---|\n",
    "|A|B|B.B|A|A|A|A|&check;|10|submission9.csv|0.773|\n",
    "|A|B|B.B|A|A|A|B|&check;|10|submission12.csv|0.773|\n",
    "|A|B|B.B|B|A|A|B|&check;|10|submission15.csv|0.773|\n",
    "|A|B|B.B|B|A|A|B|&check;|20|submission16.csv|0.773|\n",
    "\n",
    "Things to note:\n",
    "- Changing the number of epochs doesn't seem to do anything for us"
   ]
  },
  {
   "cell_type": "code",
   "execution_count": 75,
   "id": "8aeb3853-6af5-44f8-969b-acb6f12e71b9",
   "metadata": {
    "canvas": {
     "comments": [],
     "componentType": "CodeCell",
     "copiedOriginId": null,
     "diskcache": false,
     "headerColor": "transparent",
     "id": "82aecb77-d8f7-4002-8c42-784f30b5d3e8",
     "isComponent": false,
     "name": "",
     "parents": []
    }
   },
   "outputs": [
    {
     "name": "stdout",
     "output_type": "stream",
     "text": [
      "Metal device set to: Apple M1 Pro\n"
     ]
    },
    {
     "name": "stderr",
     "output_type": "stream",
     "text": [
      "2023-03-19 23:23:42.978962: I tensorflow/core/common_runtime/pluggable_device/pluggable_device_factory.cc:305] Could not identify NUMA node of platform GPU ID 0, defaulting to 0. Your kernel may not have been built with NUMA support.\n",
      "2023-03-19 23:23:42.979298: I tensorflow/core/common_runtime/pluggable_device/pluggable_device_factory.cc:271] Created TensorFlow device (/job:localhost/replica:0/task:0/device:GPU:0 with 0 MB memory) -> physical PluggableDevice (device: 0, name: METAL, pci bus id: <undefined>)\n"
     ]
    }
   ],
   "source": [
    "# Defining neural network model parameters, compiling the model\n",
    "my_model = Sequential([\n",
    "    Dense(units=25, activation=relu),\n",
    "    Dense(units=15, activation=relu),\n",
    "    Dense(units=1, activation=linear)]\n",
    ")\n",
    "my_model.compile(\n",
    "    loss=tf.keras.losses.BinaryCrossentropy(from_logits=True),\n",
    "    metrics=['accuracy'])"
   ]
  },
  {
   "cell_type": "code",
   "execution_count": 79,
   "id": "df5f2a74-f09c-454d-b598-e7dbdfc22a7e",
   "metadata": {
    "canvas": {
     "comments": [],
     "componentType": "CodeCell",
     "copiedOriginId": null,
     "diskcache": false,
     "headerColor": "transparent",
     "id": "a46ce838-ce3a-4a3f-8f9b-7e543e95058b",
     "isComponent": false,
     "name": "",
     "parents": []
    }
   },
   "outputs": [
    {
     "name": "stdout",
     "output_type": "stream",
     "text": [
      "Epoch 1/20\n",
      "28/28 [==============================] - 0s 8ms/step - loss: 0.4043 - accuracy: 0.8313\n",
      "Epoch 2/20\n",
      "28/28 [==============================] - 0s 8ms/step - loss: 0.4010 - accuracy: 0.8358\n",
      "Epoch 3/20\n",
      "28/28 [==============================] - 0s 8ms/step - loss: 0.3989 - accuracy: 0.8335\n",
      "Epoch 4/20\n",
      "28/28 [==============================] - 0s 8ms/step - loss: 0.3965 - accuracy: 0.8324\n",
      "Epoch 5/20\n",
      "28/28 [==============================] - 0s 8ms/step - loss: 0.3935 - accuracy: 0.8391\n",
      "Epoch 6/20\n",
      "28/28 [==============================] - 0s 9ms/step - loss: 0.3928 - accuracy: 0.8380\n",
      "Epoch 7/20\n",
      "28/28 [==============================] - 0s 9ms/step - loss: 0.3899 - accuracy: 0.8414\n",
      "Epoch 8/20\n",
      "28/28 [==============================] - 0s 8ms/step - loss: 0.3883 - accuracy: 0.8403\n",
      "Epoch 9/20\n",
      "28/28 [==============================] - 0s 8ms/step - loss: 0.3873 - accuracy: 0.8403\n",
      "Epoch 10/20\n",
      "28/28 [==============================] - 0s 8ms/step - loss: 0.3852 - accuracy: 0.8380\n",
      "Epoch 11/20\n",
      "28/28 [==============================] - 0s 7ms/step - loss: 0.3840 - accuracy: 0.8391\n",
      "Epoch 12/20\n",
      "28/28 [==============================] - 0s 8ms/step - loss: 0.3834 - accuracy: 0.8403\n",
      "Epoch 13/20\n",
      "28/28 [==============================] - 0s 8ms/step - loss: 0.3814 - accuracy: 0.8403\n",
      "Epoch 14/20\n",
      "28/28 [==============================] - 0s 9ms/step - loss: 0.3823 - accuracy: 0.8414\n",
      "Epoch 15/20\n",
      "28/28 [==============================] - 0s 8ms/step - loss: 0.3799 - accuracy: 0.8414\n",
      "Epoch 16/20\n",
      "28/28 [==============================] - 0s 8ms/step - loss: 0.3791 - accuracy: 0.8414\n",
      "Epoch 17/20\n",
      "28/28 [==============================] - 0s 8ms/step - loss: 0.3785 - accuracy: 0.8414\n",
      "Epoch 18/20\n",
      "28/28 [==============================] - 0s 8ms/step - loss: 0.3777 - accuracy: 0.8369\n",
      "Epoch 19/20\n",
      "28/28 [==============================] - 0s 8ms/step - loss: 0.3765 - accuracy: 0.8448\n",
      "Epoch 20/20\n",
      "28/28 [==============================] - 0s 9ms/step - loss: 0.3762 - accuracy: 0.8425\n",
      "14/14 [==============================] - 0s 3ms/step\n"
     ]
    }
   ],
   "source": [
    "my_model.fit(X_train, y_train,epochs=20)\n",
    "y_pred_nn = my_model.predict(X_test)\n",
    "y_pred_nn = tf.math.sigmoid(y_pred_nn)\n",
    "y_pred_nn = tf.cast(y_pred.round(), tf.int8)"
   ]
  },
  {
   "cell_type": "code",
   "execution_count": 80,
   "id": "d7894358-636d-4235-8c56-f01477392e27",
   "metadata": {
    "canvas": {
     "comments": [],
     "componentType": "CodeCell",
     "copiedOriginId": null,
     "diskcache": false,
     "headerColor": "transparent",
     "id": "52998bec-b680-493c-be0e-0fec7440d37f",
     "isComponent": false,
     "name": "",
     "parents": []
    }
   },
   "outputs": [
    {
     "data": {
      "text/html": [
       "<div>\n",
       "<style scoped>\n",
       "    .dataframe tbody tr th:only-of-type {\n",
       "        vertical-align: middle;\n",
       "    }\n",
       "\n",
       "    .dataframe tbody tr th {\n",
       "        vertical-align: top;\n",
       "    }\n",
       "\n",
       "    .dataframe thead th {\n",
       "        text-align: right;\n",
       "    }\n",
       "</style>\n",
       "<table border=\"1\" class=\"dataframe\">\n",
       "  <thead>\n",
       "    <tr style=\"text-align: right;\">\n",
       "      <th></th>\n",
       "      <th>Survived</th>\n",
       "    </tr>\n",
       "    <tr>\n",
       "      <th>PassengerId</th>\n",
       "      <th></th>\n",
       "    </tr>\n",
       "  </thead>\n",
       "  <tbody>\n",
       "    <tr>\n",
       "      <th>892</th>\n",
       "      <td>0</td>\n",
       "    </tr>\n",
       "    <tr>\n",
       "      <th>893</th>\n",
       "      <td>1</td>\n",
       "    </tr>\n",
       "    <tr>\n",
       "      <th>894</th>\n",
       "      <td>0</td>\n",
       "    </tr>\n",
       "    <tr>\n",
       "      <th>895</th>\n",
       "      <td>0</td>\n",
       "    </tr>\n",
       "    <tr>\n",
       "      <th>896</th>\n",
       "      <td>1</td>\n",
       "    </tr>\n",
       "  </tbody>\n",
       "</table>\n",
       "</div>"
      ],
      "text/plain": [
       "             Survived\n",
       "PassengerId          \n",
       "892                 0\n",
       "893                 1\n",
       "894                 0\n",
       "895                 0\n",
       "896                 1"
      ]
     },
     "execution_count": 80,
     "metadata": {},
     "output_type": "execute_result"
    }
   ],
   "source": [
    "temp = X_test.merge(pass_id,how='inner',left_index=True,right_index=True)\n",
    "submission = pd.DataFrame(temp['PassengerId'])\n",
    "submission['Survived'] = y_pred_nn\n",
    "submission = submission.set_index('PassengerId')\n",
    "submission.head()"
   ]
  },
  {
   "cell_type": "code",
   "execution_count": 81,
   "id": "c29a731e-8a3e-4caa-9b61-eec16ce5d8f2",
   "metadata": {
    "canvas": {
     "comments": [],
     "componentType": "CodeCell",
     "copiedOriginId": null,
     "diskcache": false,
     "headerColor": "transparent",
     "id": "32da0664-cddd-4bcc-b6e4-d0e68eb2aa91",
     "isComponent": false,
     "name": "",
     "parents": []
    }
   },
   "outputs": [],
   "source": [
    "submission.to_csv('submissions/submission16.csv')"
   ]
  },
  {
   "cell_type": "markdown",
   "id": "b223a594-6860-4a5b-8b57-f68adb271c73",
   "metadata": {
    "canvas": {
     "comments": [],
     "componentType": "CodeCell",
     "copiedOriginId": null,
     "diskcache": false,
     "headerColor": "transparent",
     "id": "c554ac5a-33a1-4b95-897b-09d3757cf174",
     "isComponent": false,
     "name": "",
     "parents": []
    }
   },
   "source": [
    "Possible next steps:\n",
    "- Feature engineering in data cleaning step to pull additional information from different features - Ongoing\n",
    "- Polynomial feature engineering\n",
    "- Try regularization in all models"
   ]
  },
  {
   "cell_type": "code",
   "execution_count": null,
   "id": "0ce9c79d-23b6-4e33-8c9d-8eb3434debc5",
   "metadata": {
    "canvas": {
     "comments": [],
     "componentType": "CodeCell",
     "copiedOriginId": null,
     "diskcache": false,
     "headerColor": "transparent",
     "id": "436715a9-1f0d-45af-bd5e-0b5e0aab1242",
     "isComponent": false,
     "name": "",
     "parents": []
    }
   },
   "outputs": [],
   "source": []
  }
 ],
 "metadata": {
  "canvas": {
   "colorPalette": [
    "inherit",
    "inherit",
    "inherit",
    "inherit",
    "inherit",
    "inherit",
    "inherit",
    "inherit",
    "inherit",
    "inherit"
   ],
   "parameters": []
  },
  "kernelspec": {
   "display_name": "Python 3 (ipykernel)",
   "language": "python",
   "name": "python3"
  },
  "language_info": {
   "codemirror_mode": {
    "name": "ipython",
    "version": 3
   },
   "file_extension": ".py",
   "mimetype": "text/x-python",
   "name": "python",
   "nbconvert_exporter": "python",
   "pygments_lexer": "ipython3",
   "version": "3.10.11"
  }
 },
 "nbformat": 4,
 "nbformat_minor": 5
}
